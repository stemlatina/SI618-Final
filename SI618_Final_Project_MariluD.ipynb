{
 "cells": [
  {
   "cell_type": "markdown",
   "metadata": {
    "colab_type": "text",
    "id": "YUfEjrnxfqbP"
   },
   "source": [
    "# SI 618 Final Project\n",
    "### By: Marilu Duque"
   ]
  },
  {
   "cell_type": "code",
   "execution_count": 662,
   "metadata": {},
   "outputs": [],
   "source": [
    "MY_UNIQNAME = 'marilud'"
   ]
  },
  {
   "cell_type": "markdown",
   "metadata": {},
   "source": [
    "#### Importing Tools and Libraries"
   ]
  },
  {
   "cell_type": "code",
   "execution_count": 663,
   "metadata": {},
   "outputs": [],
   "source": [
    "# Imports - Extra ones just in case\n",
    "from matplotlib import pyplot as plt\n",
    "%matplotlib inline\n",
    "import pandas as pd\n",
    "import seaborn as sns\n",
    "import numpy as np\n",
    "from collections import Counter\n",
    "import nltk\n",
    "from nltk.corpus import stopwords\n",
    "from nltk.tokenize import sent_tokenize, word_tokenize\n",
    "import nltk\n",
    "from nltk.stem.wordnet import WordNetLemmatizer\n",
    "import itertools\n",
    "from sklearn.cluster import KMeans\n",
    "from sklearn.decomposition import PCA\n",
    "from sklearn.metrics import silhouette_score\n",
    "from sklearn import metrics\n",
    "from PIL import Image\n",
    "from wordcloud import WordCloud, ImageColorGenerator\n",
    "import matplotlib.patches as mpatches\n",
    "from functools import reduce\n",
    "import codecs\n",
    "import glob\n",
    "import os\n",
    "import re\n",
    "from gensim.models import Word2Vec\n",
    "import sklearn.manifold\n",
    "from textblob import TextBlob\n",
    "\n",
    "from nltk.corpus import stopwords\n",
    "stop = set(stopwords.words('english'))\n",
    "%matplotlib inline"
   ]
  },
  {
   "cell_type": "markdown",
   "metadata": {},
   "source": [
    "#### Loading All 7 Harry Potter Books (.Txt Format)"
   ]
  },
  {
   "cell_type": "code",
   "execution_count": 664,
   "metadata": {},
   "outputs": [],
   "source": [
    "# Load Book 1 - The Philosophers Stone\n",
    "HP_Book_1 = open('data/Book 1 - The Philosophers Stone.txt', 'r')\n",
    "HP_Book_1 = HP_Book_1.read().replace('\\n','')\n",
    "\n",
    "# Load Book 2 - The Chamber of Secrets\n",
    "HP_Book_2 = open('data/Book 2 - The Chamber of Secrets.txt', 'r')\n",
    "HP_Book_2 = HP_Book_2.read().replace('\\n','')\n",
    "\n",
    "# Load Book 3 - The Prisoner of Azkaban\n",
    "HP_Book_3 = open('data/Book 3 - The Prisoner of Azkaban.txt', 'r')\n",
    "HP_Book_3 = HP_Book_3.read().replace('\\n','')\n",
    "\n",
    "# Load Book 4 - The Goblet of Fire\n",
    "HP_Book_4 = open('data/Book 4 - The Goblet of Fire.txt', 'r')\n",
    "HP_Book_4 = HP_Book_4.read().replace('\\n','')\n",
    "\n",
    "# Load Book 5 - The Order of the Phoenix\n",
    "HP_Book_5 = open('data/Book 5 - The Order of the Phoenix.txt', 'r')\n",
    "HP_Book_5 = HP_Book_5.read().replace('\\n','')\n",
    "\n",
    "# Load Book 6 - The Half Blood Prince\n",
    "HP_Book_6 = open('data/Book 6 - The Half Blood Prince.txt', 'r')\n",
    "HP_Book_6 = HP_Book_6.read().replace('\\n','')\n",
    "\n",
    "# Load Book 7 - The Deathly Hallows\n",
    "HP_Book_7 = open('data/Book 7 - The Deathly Hallows.txt', 'r')\n",
    "HP_Book_7 = HP_Book_7.read().replace('\\n','')\n",
    "\n",
    "# Books in List\n",
    "books = list([HP_Book_1, HP_Book_2, HP_Book_3, HP_Book_4, HP_Book_5, HP_Book_6, HP_Book_7])\n",
    "\n",
    "#HP_Book_2 = open_hp.read().replace('[<>.-^*{},:;=$&+?@#|()%!]\\n','')"
   ]
  },
  {
   "cell_type": "markdown",
   "metadata": {},
   "source": [
    "# Q1: How do the characteristics (i.e. Word count, popular adjectives & popular characters) of the 7 Harry Potter books compared to each other?"
   ]
  },
  {
   "cell_type": "markdown",
   "metadata": {},
   "source": [
    "#### Getting To Know The Books"
   ]
  },
  {
   "cell_type": "code",
   "execution_count": 665,
   "metadata": {},
   "outputs": [
    {
     "data": {
      "text/html": [
       "<div>\n",
       "<style scoped>\n",
       "    .dataframe tbody tr th:only-of-type {\n",
       "        vertical-align: middle;\n",
       "    }\n",
       "\n",
       "    .dataframe tbody tr th {\n",
       "        vertical-align: top;\n",
       "    }\n",
       "\n",
       "    .dataframe thead th {\n",
       "        text-align: right;\n",
       "    }\n",
       "</style>\n",
       "<table border=\"1\" class=\"dataframe\">\n",
       "  <thead>\n",
       "    <tr style=\"text-align: right;\">\n",
       "      <th></th>\n",
       "      <th>BookTitle</th>\n",
       "      <th>Total</th>\n",
       "    </tr>\n",
       "  </thead>\n",
       "  <tbody>\n",
       "    <tr>\n",
       "      <th>Order of the Phoenix</th>\n",
       "      <td>Order of the Phoenix</td>\n",
       "      <td>1559298</td>\n",
       "    </tr>\n",
       "    <tr>\n",
       "      <th>Deathly Hallows</th>\n",
       "      <td>Deathly Hallows</td>\n",
       "      <td>1188915</td>\n",
       "    </tr>\n",
       "    <tr>\n",
       "      <th>Goblet of Fire</th>\n",
       "      <td>Goblet of Fire</td>\n",
       "      <td>1149706</td>\n",
       "    </tr>\n",
       "    <tr>\n",
       "      <th>Half Blood Prince</th>\n",
       "      <td>Half Blood Prince</td>\n",
       "      <td>1026630</td>\n",
       "    </tr>\n",
       "    <tr>\n",
       "      <th>Prisoner of Azkaban</th>\n",
       "      <td>Prisoner of Azkaban</td>\n",
       "      <td>655473</td>\n",
       "    </tr>\n",
       "    <tr>\n",
       "      <th>Chamber of Secrets</th>\n",
       "      <td>Chamber of Secrets</td>\n",
       "      <td>514948</td>\n",
       "    </tr>\n",
       "    <tr>\n",
       "      <th>Philosophers Stone</th>\n",
       "      <td>Philosophers Stone</td>\n",
       "      <td>459169</td>\n",
       "    </tr>\n",
       "  </tbody>\n",
       "</table>\n",
       "</div>"
      ],
      "text/plain": [
       "                                 BookTitle    Total\n",
       "Order of the Phoenix  Order of the Phoenix  1559298\n",
       "Deathly Hallows            Deathly Hallows  1188915\n",
       "Goblet of Fire              Goblet of Fire  1149706\n",
       "Half Blood Prince        Half Blood Prince  1026630\n",
       "Prisoner of Azkaban    Prisoner of Azkaban   655473\n",
       "Chamber of Secrets      Chamber of Secrets   514948\n",
       "Philosophers Stone      Philosophers Stone   459169"
      ]
     },
     "execution_count": 665,
     "metadata": {},
     "output_type": "execute_result"
    }
   ],
   "source": [
    "# Total Word Count\n",
    "count_1 = len(HP_Book_1)\n",
    "count_2 = len(HP_Book_2)\n",
    "count_3 = len(HP_Book_3)\n",
    "count_4 = len(HP_Book_4)\n",
    "count_5 = len(HP_Book_5)\n",
    "count_6 = len(HP_Book_6)\n",
    "count_7 = len(HP_Book_7)\n",
    "total_count = [['Philosophers Stone', count_1], ['Chamber of Secrets', count_2], ['Prisoner of Azkaban', count_3],\n",
    "                ['Goblet of Fire', count_4],['Order of the Phoenix', count_5],['Half Blood Prince', count_6],\n",
    "               ['Deathly Hallows', count_7]]\n",
    "total_count =pd.DataFrame(total_count, columns=['BookTitle', 'Total']).sort_values(\"Total\", axis = 0, ascending = False)\n",
    "total_count.rename(index={0:'Philosophers Stone',1:'Chamber of Secrets',2:'Prisoner of Azkaban',3:'Goblet of Fire',4:'Order of the Phoenix',5:'Half Blood Prince',6:'Deathly Hallows'}, inplace=True)\n",
    "#del total_count['BookTitle']\n",
    "total_count"
   ]
  },
  {
   "cell_type": "code",
   "execution_count": 666,
   "metadata": {},
   "outputs": [
    {
     "name": "stdout",
     "output_type": "stream",
     "text": [
      "The total word count for the entire series is: 6554139\n"
     ]
    }
   ],
   "source": [
    "# Total Word Count\n",
    "Total_WC = total_count['Total'].sum()\n",
    "print(\"The total word count for the entire series is:\",Total_WC)"
   ]
  },
  {
   "cell_type": "code",
   "execution_count": 667,
   "metadata": {},
   "outputs": [
    {
     "data": {
      "text/html": [
       "<div>\n",
       "<style scoped>\n",
       "    .dataframe tbody tr th:only-of-type {\n",
       "        vertical-align: middle;\n",
       "    }\n",
       "\n",
       "    .dataframe tbody tr th {\n",
       "        vertical-align: top;\n",
       "    }\n",
       "\n",
       "    .dataframe thead th {\n",
       "        text-align: right;\n",
       "    }\n",
       "</style>\n",
       "<table border=\"1\" class=\"dataframe\">\n",
       "  <thead>\n",
       "    <tr style=\"text-align: right;\">\n",
       "      <th></th>\n",
       "      <th>BookTitle</th>\n",
       "      <th>Total</th>\n",
       "    </tr>\n",
       "  </thead>\n",
       "  <tbody>\n",
       "    <tr>\n",
       "      <th>Order of the Phoenix</th>\n",
       "      <td>Order of the Phoenix</td>\n",
       "      <td>27438</td>\n",
       "    </tr>\n",
       "    <tr>\n",
       "      <th>Deathly Hallows</th>\n",
       "      <td>Deathly Hallows</td>\n",
       "      <td>23899</td>\n",
       "    </tr>\n",
       "    <tr>\n",
       "      <th>Goblet of Fire</th>\n",
       "      <td>Goblet of Fire</td>\n",
       "      <td>22010</td>\n",
       "    </tr>\n",
       "    <tr>\n",
       "      <th>Half Blood Prince</th>\n",
       "      <td>Half Blood Prince</td>\n",
       "      <td>21316</td>\n",
       "    </tr>\n",
       "    <tr>\n",
       "      <th>Prisoner of Azkaban</th>\n",
       "      <td>Prisoner of Azkaban</td>\n",
       "      <td>15489</td>\n",
       "    </tr>\n",
       "    <tr>\n",
       "      <th>Chamber of Secrets</th>\n",
       "      <td>Chamber of Secrets</td>\n",
       "      <td>13652</td>\n",
       "    </tr>\n",
       "    <tr>\n",
       "      <th>Philosophers Stone</th>\n",
       "      <td>Philosophers Stone</td>\n",
       "      <td>11982</td>\n",
       "    </tr>\n",
       "  </tbody>\n",
       "</table>\n",
       "</div>"
      ],
      "text/plain": [
       "                                 BookTitle  Total\n",
       "Order of the Phoenix  Order of the Phoenix  27438\n",
       "Deathly Hallows            Deathly Hallows  23899\n",
       "Goblet of Fire              Goblet of Fire  22010\n",
       "Half Blood Prince        Half Blood Prince  21316\n",
       "Prisoner of Azkaban    Prisoner of Azkaban  15489\n",
       "Chamber of Secrets      Chamber of Secrets  13652\n",
       "Philosophers Stone      Philosophers Stone  11982"
      ]
     },
     "execution_count": 667,
     "metadata": {},
     "output_type": "execute_result"
    }
   ],
   "source": [
    "# Unique Words Per Book\n",
    "\n",
    "len(set(HP_Book_1.split()))\n",
    "\n",
    "Uniq_1 = len(set(HP_Book_1.split()))\n",
    "Uniq_2 = len(set(HP_Book_2.split()))\n",
    "Uniq_3 = len(set(HP_Book_3.split()))\n",
    "Uniq_4 = len(set(HP_Book_4.split()))\n",
    "Uniq_5 = len(set(HP_Book_5.split()))\n",
    "Uniq_6 = len(set(HP_Book_6.split()))\n",
    "Uniq_7 = len(set(HP_Book_7.split()))\n",
    "Uniq_count = [['Philosophers Stone', Uniq_1], ['Chamber of Secrets', Uniq_2], ['Prisoner of Azkaban', Uniq_3],\n",
    "                ['Goblet of Fire', Uniq_4],['Order of the Phoenix', Uniq_5],['Half Blood Prince', Uniq_6],\n",
    "              ['Deathly Hallows', Uniq_7]]\n",
    "Uniq_total_count =pd.DataFrame(Uniq_count, columns=['BookTitle', 'Total']).sort_values(\"Total\", axis = 0, ascending = False)\n",
    "Uniq_total_count.rename(index={0:'Philosophers Stone',1:'Chamber of Secrets',2:'Prisoner of Azkaban',3:'Goblet of Fire',4:'Order of the Phoenix',5:'Half Blood Prince',6:'Deathly Hallows'}, inplace=True)\n",
    "#del Uniq_total_count['BookTitle']\n",
    "Uniq_total_count"
   ]
  },
  {
   "cell_type": "code",
   "execution_count": 668,
   "metadata": {},
   "outputs": [
    {
     "name": "stdout",
     "output_type": "stream",
     "text": [
      "The total unique word count for the entire series is: 135786\n"
     ]
    }
   ],
   "source": [
    "# Total Unique Word count\n",
    "Total_UC = Uniq_total_count['Total'].sum()\n",
    "print(\"The total unique word count for the entire series is:\",Total_UC)"
   ]
  },
  {
   "cell_type": "code",
   "execution_count": 669,
   "metadata": {},
   "outputs": [
    {
     "data": {
      "text/html": [
       "<div>\n",
       "<style scoped>\n",
       "    .dataframe tbody tr th:only-of-type {\n",
       "        vertical-align: middle;\n",
       "    }\n",
       "\n",
       "    .dataframe tbody tr th {\n",
       "        vertical-align: top;\n",
       "    }\n",
       "\n",
       "    .dataframe thead th {\n",
       "        text-align: right;\n",
       "    }\n",
       "</style>\n",
       "<table border=\"1\" class=\"dataframe\">\n",
       "  <thead>\n",
       "    <tr style=\"text-align: right;\">\n",
       "      <th></th>\n",
       "      <th>BookTitle</th>\n",
       "      <th>Total Word Count</th>\n",
       "      <th>Total Unique Count</th>\n",
       "    </tr>\n",
       "  </thead>\n",
       "  <tbody>\n",
       "    <tr>\n",
       "      <th>Order of the Phoenix</th>\n",
       "      <td>Order of the Phoenix</td>\n",
       "      <td>1559298</td>\n",
       "      <td>27438</td>\n",
       "    </tr>\n",
       "    <tr>\n",
       "      <th>Deathly Hallows</th>\n",
       "      <td>Deathly Hallows</td>\n",
       "      <td>1188915</td>\n",
       "      <td>23899</td>\n",
       "    </tr>\n",
       "    <tr>\n",
       "      <th>Goblet of Fire</th>\n",
       "      <td>Goblet of Fire</td>\n",
       "      <td>1149706</td>\n",
       "      <td>22010</td>\n",
       "    </tr>\n",
       "    <tr>\n",
       "      <th>Half Blood Prince</th>\n",
       "      <td>Half Blood Prince</td>\n",
       "      <td>1026630</td>\n",
       "      <td>21316</td>\n",
       "    </tr>\n",
       "    <tr>\n",
       "      <th>Prisoner of Azkaban</th>\n",
       "      <td>Prisoner of Azkaban</td>\n",
       "      <td>655473</td>\n",
       "      <td>15489</td>\n",
       "    </tr>\n",
       "    <tr>\n",
       "      <th>Chamber of Secrets</th>\n",
       "      <td>Chamber of Secrets</td>\n",
       "      <td>514948</td>\n",
       "      <td>13652</td>\n",
       "    </tr>\n",
       "    <tr>\n",
       "      <th>Philosophers Stone</th>\n",
       "      <td>Philosophers Stone</td>\n",
       "      <td>459169</td>\n",
       "      <td>11982</td>\n",
       "    </tr>\n",
       "  </tbody>\n",
       "</table>\n",
       "</div>"
      ],
      "text/plain": [
       "                                 BookTitle  Total Word Count  \\\n",
       "Order of the Phoenix  Order of the Phoenix           1559298   \n",
       "Deathly Hallows            Deathly Hallows           1188915   \n",
       "Goblet of Fire              Goblet of Fire           1149706   \n",
       "Half Blood Prince        Half Blood Prince           1026630   \n",
       "Prisoner of Azkaban    Prisoner of Azkaban            655473   \n",
       "Chamber of Secrets      Chamber of Secrets            514948   \n",
       "Philosophers Stone      Philosophers Stone            459169   \n",
       "\n",
       "                      Total Unique Count  \n",
       "Order of the Phoenix               27438  \n",
       "Deathly Hallows                    23899  \n",
       "Goblet of Fire                     22010  \n",
       "Half Blood Prince                  21316  \n",
       "Prisoner of Azkaban                15489  \n",
       "Chamber of Secrets                 13652  \n",
       "Philosophers Stone                 11982  "
      ]
     },
     "execution_count": 669,
     "metadata": {},
     "output_type": "execute_result"
    }
   ],
   "source": [
    "# Merge Dataframes\n",
    "df_total = [total_count,Uniq_total_count]\n",
    "df_total_f = reduce(lambda left,right: pd.merge(left,right,on='BookTitle'), df_total)\n",
    "\n",
    "# Adjust Frame\n",
    "df_total_f.rename(index={0:'Order of the Phoenix',1:'Deathly Hallows',2:'Goblet of Fire',3:'Half Blood Prince',4:'Prisoner of Azkaban',5:'Chamber of Secrets',6:'Philosophers Stone'}, inplace=True)\n",
    "d1 = {'Total_x': ['Total Word Count'],'Total_y': ['Total Unique Count']}\n",
    "df_total_f = df_total_f.rename(columns=lambda c: d1[c].pop(0) if c in d1.keys() else c)\n",
    "df_total_f"
   ]
  },
  {
   "cell_type": "code",
   "execution_count": 687,
   "metadata": {},
   "outputs": [
    {
     "data": {
      "image/png": "[encoded data removed]",
      "text/plain": [
       "<Figure size 720x360 with 1 Axes>"
      ]
     },
     "metadata": {
      "needs_background": "light"
     },
     "output_type": "display_data"
    }
   ],
   "source": [
    "import matplotlib\n",
    "# Set Theme Colors\n",
    "norm = matplotlib.colors.Normalize(-1,1)\n",
    "colors = [[norm(-1.0), \"maroon\"],\n",
    "          [norm(-0.6), \"darkgreen\"],\n",
    "          [norm( 0.6), \"gold\"],\n",
    "          [norm( 1.0), \"darkblue\"]]\n",
    "cmap = matplotlib.colors.LinearSegmentedColormap.from_list(\"\", colors)\n",
    "#cmap=\"RdGy\"\n",
    "\n",
    "# Plot Total Word Count\n",
    "df_total_f.plot(kind = 'bar',cmap=cmap, linewidth=1,figsize = (10,5))\n",
    "\n",
    "# Labels\n",
    "plt.title('Analyzing Word Counts Per Book',fontsize=20)\n",
    "plt.ylabel('Word Count',fontsize=15)\n",
    "plt.xlabel('Harry Potter Books',fontsize=15)\n",
    "plt.savefig('hpwordcount.png')"
   ]
  },
  {
   "cell_type": "code",
   "execution_count": 672,
   "metadata": {},
   "outputs": [
    {
     "name": "stdout",
     "output_type": "stream",
     "text": [
      "Total Word Count      936305.571429\n",
      "Total Unique Count     19398.000000\n",
      "dtype: float64\n"
     ]
    },
    {
     "data": {
      "text/html": [
       "<div>\n",
       "<style scoped>\n",
       "    .dataframe tbody tr th:only-of-type {\n",
       "        vertical-align: middle;\n",
       "    }\n",
       "\n",
       "    .dataframe tbody tr th {\n",
       "        vertical-align: top;\n",
       "    }\n",
       "\n",
       "    .dataframe thead th {\n",
       "        text-align: right;\n",
       "    }\n",
       "</style>\n",
       "<table border=\"1\" class=\"dataframe\">\n",
       "  <thead>\n",
       "    <tr style=\"text-align: right;\">\n",
       "      <th></th>\n",
       "      <th>Total Word Count</th>\n",
       "      <th>Total Unique Count</th>\n",
       "    </tr>\n",
       "  </thead>\n",
       "  <tbody>\n",
       "    <tr>\n",
       "      <th>count</th>\n",
       "      <td>7.000000e+00</td>\n",
       "      <td>7.000000</td>\n",
       "    </tr>\n",
       "    <tr>\n",
       "      <th>mean</th>\n",
       "      <td>9.363056e+05</td>\n",
       "      <td>19398.000000</td>\n",
       "    </tr>\n",
       "    <tr>\n",
       "      <th>std</th>\n",
       "      <td>4.061399e+05</td>\n",
       "      <td>5754.646268</td>\n",
       "    </tr>\n",
       "    <tr>\n",
       "      <th>min</th>\n",
       "      <td>4.591690e+05</td>\n",
       "      <td>11982.000000</td>\n",
       "    </tr>\n",
       "    <tr>\n",
       "      <th>25%</th>\n",
       "      <td>5.852105e+05</td>\n",
       "      <td>14570.500000</td>\n",
       "    </tr>\n",
       "    <tr>\n",
       "      <th>50%</th>\n",
       "      <td>1.026630e+06</td>\n",
       "      <td>21316.000000</td>\n",
       "    </tr>\n",
       "    <tr>\n",
       "      <th>75%</th>\n",
       "      <td>1.169310e+06</td>\n",
       "      <td>22954.500000</td>\n",
       "    </tr>\n",
       "    <tr>\n",
       "      <th>max</th>\n",
       "      <td>1.559298e+06</td>\n",
       "      <td>27438.000000</td>\n",
       "    </tr>\n",
       "  </tbody>\n",
       "</table>\n",
       "</div>"
      ],
      "text/plain": [
       "       Total Word Count  Total Unique Count\n",
       "count      7.000000e+00            7.000000\n",
       "mean       9.363056e+05        19398.000000\n",
       "std        4.061399e+05         5754.646268\n",
       "min        4.591690e+05        11982.000000\n",
       "25%        5.852105e+05        14570.500000\n",
       "50%        1.026630e+06        21316.000000\n",
       "75%        1.169310e+06        22954.500000\n",
       "max        1.559298e+06        27438.000000"
      ]
     },
     "execution_count": 672,
     "metadata": {},
     "output_type": "execute_result"
    }
   ],
   "source": [
    "# Average word count\n",
    "print(df_total_f.mean(axis=0))\n",
    "\n",
    "# Describe word count set\n",
    "df_total_f.describe()"
   ]
  },
  {
   "cell_type": "code",
   "execution_count": 673,
   "metadata": {},
   "outputs": [
    {
     "name": "stdout",
     "output_type": "stream",
     "text": [
      "The Min for Total Word Count is: 459169\n",
      "The Max for Total Word Count is: 1559298\n",
      "The Min for Total Unique Count is: 11982\n",
      "The Max for Total Unique Count is: 27438\n"
     ]
    }
   ],
   "source": [
    "# Min and Max of each column\n",
    "print(\"The Min for Total Word Count is:\",df_total_f['Total Word Count'].min())\n",
    "print(\"The Max for Total Word Count is:\",df_total_f['Total Word Count'].max())\n",
    "\n",
    "print(\"The Min for Total Unique Count is:\",df_total_f['Total Unique Count'].min())\n",
    "print(\"The Max for Total Unique Count is:\",df_total_f['Total Unique Count'].max())"
   ]
  },
  {
   "cell_type": "code",
   "execution_count": 674,
   "metadata": {},
   "outputs": [],
   "source": [
    "# Open full text book\n",
    "full_book = open('fullbook/books_together.txt', 'r')\n",
    "full_book = full_book.read().replace('\\n','')\n",
    "# Apply Text Blob library/tool for pop words\n",
    "all_words= TextBlob(full_book)\n",
    "word_tag =all_words.tags\n",
    "word_tag_df = pd.DataFrame(word_tag)"
   ]
  },
  {
   "cell_type": "code",
   "execution_count": 675,
   "metadata": {},
   "outputs": [],
   "source": [
    "# Name columns\n",
    "word_tag_df.columns = ['Words', \"Type\"]\n",
    "word_tag_df\n",
    "\n",
    "# New column for later\n",
    "name_tag_df = word_tag_df.copy()\n",
    "adj_tag_df = word_tag_df.copy()"
   ]
  },
  {
   "cell_type": "code",
   "execution_count": 676,
   "metadata": {},
   "outputs": [
    {
     "data": {
      "text/html": [
       "<div>\n",
       "<style scoped>\n",
       "    .dataframe tbody tr th:only-of-type {\n",
       "        vertical-align: middle;\n",
       "    }\n",
       "\n",
       "    .dataframe tbody tr th {\n",
       "        vertical-align: top;\n",
       "    }\n",
       "\n",
       "    .dataframe thead th {\n",
       "        text-align: right;\n",
       "    }\n",
       "</style>\n",
       "<table border=\"1\" class=\"dataframe\">\n",
       "  <thead>\n",
       "    <tr style=\"text-align: right;\">\n",
       "      <th></th>\n",
       "      <th>Words</th>\n",
       "    </tr>\n",
       "  </thead>\n",
       "  <tbody>\n",
       "    <tr>\n",
       "      <th>other</th>\n",
       "      <td>1133</td>\n",
       "    </tr>\n",
       "    <tr>\n",
       "      <th>last</th>\n",
       "      <td>1021</td>\n",
       "    </tr>\n",
       "    <tr>\n",
       "      <th>little</th>\n",
       "      <td>929</td>\n",
       "    </tr>\n",
       "    <tr>\n",
       "      <th>good</th>\n",
       "      <td>756</td>\n",
       "    </tr>\n",
       "    <tr>\n",
       "      <th>first</th>\n",
       "      <td>721</td>\n",
       "    </tr>\n",
       "    <tr>\n",
       "      <th>few</th>\n",
       "      <td>686</td>\n",
       "    </tr>\n",
       "    <tr>\n",
       "      <th>old</th>\n",
       "      <td>682</td>\n",
       "    </tr>\n",
       "    <tr>\n",
       "      <th>long</th>\n",
       "      <td>663</td>\n",
       "    </tr>\n",
       "    <tr>\n",
       "      <th>large</th>\n",
       "      <td>640</td>\n",
       "    </tr>\n",
       "    <tr>\n",
       "      <th>own</th>\n",
       "      <td>621</td>\n",
       "    </tr>\n",
       "  </tbody>\n",
       "</table>\n",
       "</div>"
      ],
      "text/plain": [
       "        Words\n",
       "other    1133\n",
       "last     1021\n",
       "little    929\n",
       "good      756\n",
       "first     721\n",
       "few       686\n",
       "old       682\n",
       "long      663\n",
       "large     640\n",
       "own       621"
      ]
     },
     "execution_count": 676,
     "metadata": {},
     "output_type": "execute_result"
    }
   ],
   "source": [
    "# Top 10 Adjectives\n",
    "#adj_tag_df.columns = ['Words', \"Adj\"]\n",
    "adj_tag_df = adj_tag_df.drop(adj_tag_df.index[adj_tag_df.Type != 'JJ'])\n",
    "adj_tag_df = pd.DataFrame(adj_tag_df['Words'].value_counts().nlargest(20))\n",
    "# Drop undescriptive words/symbols\n",
    "adj_tag_df = adj_tag_df.drop([adj_tag_df.index[1]])\n",
    "adj_tag_df = adj_tag_df.drop([adj_tag_df.index[1]])\n",
    "adj_tag_df = adj_tag_df.drop([adj_tag_df.index[1]])\n",
    "adj_tag_df = adj_tag_df.drop([adj_tag_df.index[0]])\n",
    "adj_tag_df = adj_tag_df.drop([adj_tag_df.index[0]])\n",
    "adj_tag_df = adj_tag_df.drop([adj_tag_df.index[1]])\n",
    "adj_tag_df = adj_tag_df.drop([adj_tag_df.index[2]])\n",
    "adj_tag_df = adj_tag_df.drop([adj_tag_df.index[4]])\n",
    "adj_tag_df = adj_tag_df.drop([adj_tag_df.index[7]])\n",
    "adj_tag_df = adj_tag_df.drop([adj_tag_df.index[9]])\n",
    "adj_tag_df"
   ]
  },
  {
   "cell_type": "code",
   "execution_count": 688,
   "metadata": {},
   "outputs": [
    {
     "data": {
      "image/png": "[encoded data removed]",
      "text/plain": [
       "<Figure size 720x360 with 1 Axes>"
      ]
     },
     "metadata": {
      "needs_background": "light"
     },
     "output_type": "display_data"
    }
   ],
   "source": [
    "# Plot 10 Adjectives\n",
    "adj_tag_df.plot(kind='bar',cmap=cmap, linewidth=1,figsize = (10,5))\n",
    "\n",
    "# Labels\n",
    "plt.title('Top 10 Adjectives Throughout the Saga',fontsize=20)\n",
    "plt.ylabel('Count',fontsize=15)\n",
    "plt.xlabel('Adjective',fontsize=15)\n",
    "plt.savefig('popHPadj.png')"
   ]
  },
  {
   "cell_type": "code",
   "execution_count": 678,
   "metadata": {},
   "outputs": [
    {
     "data": {
      "text/html": [
       "<div>\n",
       "<style scoped>\n",
       "    .dataframe tbody tr th:only-of-type {\n",
       "        vertical-align: middle;\n",
       "    }\n",
       "\n",
       "    .dataframe tbody tr th {\n",
       "        vertical-align: top;\n",
       "    }\n",
       "\n",
       "    .dataframe thead th {\n",
       "        text-align: right;\n",
       "    }\n",
       "</style>\n",
       "<table border=\"1\" class=\"dataframe\">\n",
       "  <thead>\n",
       "    <tr style=\"text-align: right;\">\n",
       "      <th></th>\n",
       "      <th>Words</th>\n",
       "      <th>Type</th>\n",
       "    </tr>\n",
       "  </thead>\n",
       "  <tbody>\n",
       "    <tr>\n",
       "      <th>1</th>\n",
       "      <td>THE</td>\n",
       "      <td>NNP</td>\n",
       "    </tr>\n",
       "    <tr>\n",
       "      <th>2</th>\n",
       "      <td>BOY</td>\n",
       "      <td>NNP</td>\n",
       "    </tr>\n",
       "    <tr>\n",
       "      <th>3</th>\n",
       "      <td>WHO</td>\n",
       "      <td>NNP</td>\n",
       "    </tr>\n",
       "    <tr>\n",
       "      <th>4</th>\n",
       "      <td>LIVED</td>\n",
       "      <td>NNP</td>\n",
       "    </tr>\n",
       "    <tr>\n",
       "      <th>5</th>\n",
       "      <td>Mr.</td>\n",
       "      <td>NNP</td>\n",
       "    </tr>\n",
       "    <tr>\n",
       "      <th>...</th>\n",
       "      <td>...</td>\n",
       "      <td>...</td>\n",
       "    </tr>\n",
       "    <tr>\n",
       "      <th>1290056</th>\n",
       "      <td>Harry</td>\n",
       "      <td>NNP</td>\n",
       "    </tr>\n",
       "    <tr>\n",
       "      <th>1290057</th>\n",
       "      <td>Potter</td>\n",
       "      <td>NNP</td>\n",
       "    </tr>\n",
       "    <tr>\n",
       "      <th>1290060</th>\n",
       "      <td>Deathly</td>\n",
       "      <td>NNP</td>\n",
       "    </tr>\n",
       "    <tr>\n",
       "      <th>1290061</th>\n",
       "      <td>Hallows</td>\n",
       "      <td>NNP</td>\n",
       "    </tr>\n",
       "    <tr>\n",
       "      <th>1290062</th>\n",
       "      <td>J.K.</td>\n",
       "      <td>NNP</td>\n",
       "    </tr>\n",
       "  </tbody>\n",
       "</table>\n",
       "<p>187213 rows × 2 columns</p>\n",
       "</div>"
      ],
      "text/plain": [
       "           Words Type\n",
       "1            THE  NNP\n",
       "2            BOY  NNP\n",
       "3            WHO  NNP\n",
       "4          LIVED  NNP\n",
       "5            Mr.  NNP\n",
       "...          ...  ...\n",
       "1290056    Harry  NNP\n",
       "1290057   Potter  NNP\n",
       "1290060  Deathly  NNP\n",
       "1290061  Hallows  NNP\n",
       "1290062     J.K.  NNP\n",
       "\n",
       "[187213 rows x 2 columns]"
      ]
     },
     "execution_count": 678,
     "metadata": {},
     "output_type": "execute_result"
    }
   ],
   "source": [
    "# Looking for top 10 popular characters - Cleaning data\n",
    "#name_tag_df.columns = ['Words', \"Nouns\"]\n",
    "name_tag_df = name_tag_df.drop(name_tag_df.index[name_tag_df.Type != 'NNP'])\n",
    "name_tag_df = name_tag_df.drop(name_tag_df.index[name_tag_df.Type == \"J.K.\"])\n",
    "name_tag_df = name_tag_df.drop(name_tag_df.index[name_tag_df.Type == \"Rowling\"])\n",
    "name_tag_df = name_tag_df.drop(name_tag_df.index[name_tag_df.Type == \"Mr.\"])\n",
    "name_tag_df"
   ]
  },
  {
   "cell_type": "code",
   "execution_count": 679,
   "metadata": {},
   "outputs": [
    {
     "data": {
      "text/html": [
       "<div>\n",
       "<style scoped>\n",
       "    .dataframe tbody tr th:only-of-type {\n",
       "        vertical-align: middle;\n",
       "    }\n",
       "\n",
       "    .dataframe tbody tr th {\n",
       "        vertical-align: top;\n",
       "    }\n",
       "\n",
       "    .dataframe thead th {\n",
       "        text-align: right;\n",
       "    }\n",
       "</style>\n",
       "<table border=\"1\" class=\"dataframe\">\n",
       "  <thead>\n",
       "    <tr style=\"text-align: right;\">\n",
       "      <th></th>\n",
       "      <th>Words</th>\n",
       "    </tr>\n",
       "  </thead>\n",
       "  <tbody>\n",
       "    <tr>\n",
       "      <th>Harry</th>\n",
       "      <td>21770</td>\n",
       "    </tr>\n",
       "    <tr>\n",
       "      <th>Ron</th>\n",
       "      <td>6283</td>\n",
       "    </tr>\n",
       "    <tr>\n",
       "      <th>Hermione</th>\n",
       "      <td>4997</td>\n",
       "    </tr>\n",
       "    <tr>\n",
       "      <th>Dumbledore</th>\n",
       "      <td>3107</td>\n",
       "    </tr>\n",
       "    <tr>\n",
       "      <th>Hagrid</th>\n",
       "      <td>2013</td>\n",
       "    </tr>\n",
       "    <tr>\n",
       "      <th>Snape</th>\n",
       "      <td>1654</td>\n",
       "    </tr>\n",
       "    <tr>\n",
       "      <th>Malfoy</th>\n",
       "      <td>1318</td>\n",
       "    </tr>\n",
       "    <tr>\n",
       "      <th>Voldemort</th>\n",
       "      <td>1199</td>\n",
       "    </tr>\n",
       "    <tr>\n",
       "      <th>Sirius</th>\n",
       "      <td>1104</td>\n",
       "    </tr>\n",
       "    <tr>\n",
       "      <th>Fred</th>\n",
       "      <td>894</td>\n",
       "    </tr>\n",
       "  </tbody>\n",
       "</table>\n",
       "</div>"
      ],
      "text/plain": [
       "            Words\n",
       "Harry       21770\n",
       "Ron          6283\n",
       "Hermione     4997\n",
       "Dumbledore   3107\n",
       "Hagrid       2013\n",
       "Snape        1654\n",
       "Malfoy       1318\n",
       "Voldemort    1199\n",
       "Sirius       1104\n",
       "Fred          894"
      ]
     },
     "execution_count": 679,
     "metadata": {},
     "output_type": "execute_result"
    }
   ],
   "source": [
    "# Moved to new dataframe and cleaning\n",
    "top_charac = pd.DataFrame(name_tag_df['Words'].value_counts().nlargest(23))\n",
    "# Drop non-relevant pro nouns like professor, Mr., last names, locations, etc.\n",
    "top_charac = top_charac.drop([top_charac.index[1]])\n",
    "top_charac = top_charac.drop([top_charac.index[1]])\n",
    "top_charac = top_charac.drop([top_charac.index[1]])\n",
    "top_charac = top_charac.drop([top_charac.index[2]])\n",
    "top_charac = top_charac.drop([top_charac.index[3]])\n",
    "top_charac = top_charac.drop([top_charac.index[3]])\n",
    "top_charac = top_charac.drop([top_charac.index[3]])\n",
    "top_charac = top_charac.drop([top_charac.index[4]])\n",
    "top_charac = top_charac.drop([top_charac.index[5]])\n",
    "top_charac = top_charac.drop([top_charac.index[6]])\n",
    "top_charac = top_charac.drop([top_charac.index[8]])\n",
    "top_charac = top_charac.drop([top_charac.index[8]])\n",
    "top_charac = top_charac.drop([top_charac.index[9]])\n",
    "#top_charac = top_charac.drop([top_charac.index[9]])\n",
    "#top_charac = top_charac.drop([top_charac.index[9]])\n",
    "top_charac"
   ]
  },
  {
   "cell_type": "code",
   "execution_count": 689,
   "metadata": {},
   "outputs": [
    {
     "data": {
      "image/png": "[encoded data removed]",
      "text/plain": [
       "<Figure size 720x360 with 1 Axes>"
      ]
     },
     "metadata": {
      "needs_background": "light"
     },
     "output_type": "display_data"
    }
   ],
   "source": [
    "# Plot \n",
    "top_charac.plot(kind='bar',cmap=cmap, linewidth=1,figsize = (10,5))\n",
    "\n",
    "# Labels\n",
    "plt.title('Characters Popularity Throughout the Saga',fontsize=20)\n",
    "plt.ylabel('Number of Times Mentioned',fontsize=15)\n",
    "plt.xlabel('Name of Characters',fontsize=15)\n",
    "plt.savefig('popHPchar.png')"
   ]
  },
  {
   "cell_type": "markdown",
   "metadata": {},
   "source": [
    "#### Q1 Interpritation ####\n",
    "From the total and unique word count, we can see that the overall word count per book, greatly outweighs the unique word count. The total word count for the entire series is 6,554,139 while the total unique word count is 135,786. From this, we can assume that a vast majority of words are filler or stop words used to keep sentence cohesiveness. In merging both the total and unique word counts, we can analyze the average word counts across the series. The average Total word count is 936,305 while the total unique is 19,398. The longest book was the 5th book, Order of the Phoenix (2003), the shortest was the 1st book, Philosopher's Stone (1997). The first book being the shortest makes sense because J.K. Rowling was just getting the story of Harry Potter started and almost testing the market. Since then, J.K. Rowling had been publishing a Harry Potter book every year since 1997 so it makes sense that Order of the Phoenix was the longest as she spent 3 years writing and publishing it.\n",
    "\n",
    "Additionally, I calculated the top 10 most popular adjectives which were 'other', 'last', 'little', 'good', 'first', 'few', 'old', 'long', 'large', 'own'. I was surprised at how basic these adjectives were with the dark content in the book. I expected words like 'insane', 'terrible','black' or 'dead'.\n",
    "\n",
    "As for the most popular characters throughout the series, obviously, Harry Potter would be the most popular. Continuing the next 2 were his best friends, Ron and Hermione. Then his mentors Dumbledore and Hagrid, then his nemesis Snape, Malfoy, Voldemort, and secondary characters Sirius and Fred."
   ]
  },
  {
   "cell_type": "markdown",
   "metadata": {},
   "source": [
    "# Q2: How have the Hogwarts houses (Gryffindor, Slytherin, Ravenclaw and Hufflepuff) popularities changed throughout the 7 books?"
   ]
  },
  {
   "cell_type": "code",
   "execution_count": 680,
   "metadata": {},
   "outputs": [
    {
     "data": {
      "text/html": [
       "<div>\n",
       "<style scoped>\n",
       "    .dataframe tbody tr th:only-of-type {\n",
       "        vertical-align: middle;\n",
       "    }\n",
       "\n",
       "    .dataframe tbody tr th {\n",
       "        vertical-align: top;\n",
       "    }\n",
       "\n",
       "    .dataframe thead th {\n",
       "        text-align: right;\n",
       "    }\n",
       "</style>\n",
       "<table border=\"1\" class=\"dataframe\">\n",
       "  <thead>\n",
       "    <tr style=\"text-align: right;\">\n",
       "      <th></th>\n",
       "      <th>House</th>\n",
       "      <th>Mentions</th>\n",
       "    </tr>\n",
       "  </thead>\n",
       "  <tbody>\n",
       "    <tr>\n",
       "      <th>0</th>\n",
       "      <td>Gryffindor</td>\n",
       "      <td>97</td>\n",
       "    </tr>\n",
       "    <tr>\n",
       "      <th>1</th>\n",
       "      <td>Slytherin</td>\n",
       "      <td>63</td>\n",
       "    </tr>\n",
       "    <tr>\n",
       "      <th>3</th>\n",
       "      <td>Hufflepuff</td>\n",
       "      <td>19</td>\n",
       "    </tr>\n",
       "    <tr>\n",
       "      <th>2</th>\n",
       "      <td>Ravenclaw</td>\n",
       "      <td>11</td>\n",
       "    </tr>\n",
       "  </tbody>\n",
       "</table>\n",
       "</div>"
      ],
      "text/plain": [
       "        House  Mentions\n",
       "0  Gryffindor        97\n",
       "1   Slytherin        63\n",
       "3  Hufflepuff        19\n",
       "2   Ravenclaw        11"
      ]
     },
     "execution_count": 680,
     "metadata": {},
     "output_type": "execute_result"
    }
   ],
   "source": [
    "# Book 1 - The Philosophers Stone\n",
    "gryf1 = HP_Book_1.count(\"Gryffindor\")\n",
    "sly1 = HP_Book_1.count(\"Slytherin\")\n",
    "rave1 = HP_Book_1.count(\"Ravenclaw\")\n",
    "huff1 = HP_Book_1.count(\"Hufflepuff\")\n",
    "houses_book1 = [['Gryffindor', gryf1], ['Slytherin', sly1], ['Ravenclaw', rave1],['Hufflepuff', huff1]]\n",
    "df_houses_book1 =pd.DataFrame(houses_book1, columns=['House', 'Mentions']).sort_values(\"Mentions\", axis = 0, ascending = False)\n",
    "df_houses_book1"
   ]
  },
  {
   "cell_type": "code",
   "execution_count": 681,
   "metadata": {},
   "outputs": [
    {
     "data": {
      "text/html": [
       "<div>\n",
       "<style scoped>\n",
       "    .dataframe tbody tr th:only-of-type {\n",
       "        vertical-align: middle;\n",
       "    }\n",
       "\n",
       "    .dataframe tbody tr th {\n",
       "        vertical-align: top;\n",
       "    }\n",
       "\n",
       "    .dataframe thead th {\n",
       "        text-align: right;\n",
       "    }\n",
       "</style>\n",
       "<table border=\"1\" class=\"dataframe\">\n",
       "  <thead>\n",
       "    <tr style=\"text-align: right;\">\n",
       "      <th></th>\n",
       "      <th>House</th>\n",
       "      <th>Mentions</th>\n",
       "    </tr>\n",
       "  </thead>\n",
       "  <tbody>\n",
       "    <tr>\n",
       "      <th>1</th>\n",
       "      <td>Slytherin</td>\n",
       "      <td>120</td>\n",
       "    </tr>\n",
       "    <tr>\n",
       "      <th>0</th>\n",
       "      <td>Gryffindor</td>\n",
       "      <td>95</td>\n",
       "    </tr>\n",
       "    <tr>\n",
       "      <th>3</th>\n",
       "      <td>Hufflepuff</td>\n",
       "      <td>19</td>\n",
       "    </tr>\n",
       "    <tr>\n",
       "      <th>2</th>\n",
       "      <td>Ravenclaw</td>\n",
       "      <td>10</td>\n",
       "    </tr>\n",
       "  </tbody>\n",
       "</table>\n",
       "</div>"
      ],
      "text/plain": [
       "        House  Mentions\n",
       "1   Slytherin       120\n",
       "0  Gryffindor        95\n",
       "3  Hufflepuff        19\n",
       "2   Ravenclaw        10"
      ]
     },
     "execution_count": 681,
     "metadata": {},
     "output_type": "execute_result"
    }
   ],
   "source": [
    "# Book 2 - The Chamber of Secrets\n",
    "gryf2 = HP_Book_2.count(\"Gryffindor\")\n",
    "sly2 = HP_Book_2.count(\"Slytherin\")\n",
    "rave2 = HP_Book_2.count(\"Ravenclaw\")\n",
    "huff2 = HP_Book_2.count(\"Hufflepuff\")\n",
    "houses_book2 = [['Gryffindor', gryf2], ['Slytherin', sly2], ['Ravenclaw', rave2],['Hufflepuff', huff2]]\n",
    "df_houses_book2 =pd.DataFrame(houses_book2, columns=['House', 'Mentions']).sort_values(\"Mentions\", axis = 0, ascending = False)\n",
    "df_houses_book2"
   ]
  },
  {
   "cell_type": "code",
   "execution_count": 682,
   "metadata": {},
   "outputs": [
    {
     "data": {
      "text/html": [
       "<div>\n",
       "<style scoped>\n",
       "    .dataframe tbody tr th:only-of-type {\n",
       "        vertical-align: middle;\n",
       "    }\n",
       "\n",
       "    .dataframe tbody tr th {\n",
       "        vertical-align: top;\n",
       "    }\n",
       "\n",
       "    .dataframe thead th {\n",
       "        text-align: right;\n",
       "    }\n",
       "</style>\n",
       "<table border=\"1\" class=\"dataframe\">\n",
       "  <thead>\n",
       "    <tr style=\"text-align: right;\">\n",
       "      <th></th>\n",
       "      <th>House</th>\n",
       "      <th>Mentions</th>\n",
       "    </tr>\n",
       "  </thead>\n",
       "  <tbody>\n",
       "    <tr>\n",
       "      <th>0</th>\n",
       "      <td>Gryffindor</td>\n",
       "      <td>129</td>\n",
       "    </tr>\n",
       "    <tr>\n",
       "      <th>1</th>\n",
       "      <td>Slytherin</td>\n",
       "      <td>68</td>\n",
       "    </tr>\n",
       "    <tr>\n",
       "      <th>2</th>\n",
       "      <td>Ravenclaw</td>\n",
       "      <td>31</td>\n",
       "    </tr>\n",
       "    <tr>\n",
       "      <th>3</th>\n",
       "      <td>Hufflepuff</td>\n",
       "      <td>16</td>\n",
       "    </tr>\n",
       "  </tbody>\n",
       "</table>\n",
       "</div>"
      ],
      "text/plain": [
       "        House  Mentions\n",
       "0  Gryffindor       129\n",
       "1   Slytherin        68\n",
       "2   Ravenclaw        31\n",
       "3  Hufflepuff        16"
      ]
     },
     "execution_count": 682,
     "metadata": {},
     "output_type": "execute_result"
    }
   ],
   "source": [
    "# Book 3 - The Prisoner of Azkaban\n",
    "gryf3 = HP_Book_3.count(\"Gryffindor\")\n",
    "sly3 = HP_Book_3.count(\"Slytherin\")\n",
    "rave3 = HP_Book_3.count(\"Ravenclaw\")\n",
    "huff3 = HP_Book_3.count(\"Hufflepuff\")\n",
    "houses_book3 = [['Gryffindor', gryf3], ['Slytherin', sly3], ['Ravenclaw', rave3],['Hufflepuff', huff3]]\n",
    "df_houses_book3 =pd.DataFrame(houses_book3, columns=['House', 'Mentions']).sort_values(\"Mentions\", axis = 0, ascending = False)\n",
    "df_houses_book3"
   ]
  },
  {
   "cell_type": "code",
   "execution_count": 683,
   "metadata": {},
   "outputs": [
    {
     "data": {
      "text/html": [
       "<div>\n",
       "<style scoped>\n",
       "    .dataframe tbody tr th:only-of-type {\n",
       "        vertical-align: middle;\n",
       "    }\n",
       "\n",
       "    .dataframe tbody tr th {\n",
       "        vertical-align: top;\n",
       "    }\n",
       "\n",
       "    .dataframe thead th {\n",
       "        text-align: right;\n",
       "    }\n",
       "</style>\n",
       "<table border=\"1\" class=\"dataframe\">\n",
       "  <thead>\n",
       "    <tr style=\"text-align: right;\">\n",
       "      <th></th>\n",
       "      <th>House</th>\n",
       "      <th>Mentions</th>\n",
       "    </tr>\n",
       "  </thead>\n",
       "  <tbody>\n",
       "    <tr>\n",
       "      <th>0</th>\n",
       "      <td>Gryffindor</td>\n",
       "      <td>85</td>\n",
       "    </tr>\n",
       "    <tr>\n",
       "      <th>1</th>\n",
       "      <td>Slytherin</td>\n",
       "      <td>49</td>\n",
       "    </tr>\n",
       "    <tr>\n",
       "      <th>3</th>\n",
       "      <td>Hufflepuff</td>\n",
       "      <td>34</td>\n",
       "    </tr>\n",
       "    <tr>\n",
       "      <th>2</th>\n",
       "      <td>Ravenclaw</td>\n",
       "      <td>21</td>\n",
       "    </tr>\n",
       "  </tbody>\n",
       "</table>\n",
       "</div>"
      ],
      "text/plain": [
       "        House  Mentions\n",
       "0  Gryffindor        85\n",
       "1   Slytherin        49\n",
       "3  Hufflepuff        34\n",
       "2   Ravenclaw        21"
      ]
     },
     "execution_count": 683,
     "metadata": {},
     "output_type": "execute_result"
    }
   ],
   "source": [
    "# Book 4 - The Goblet of Fire\n",
    "gryf4 = HP_Book_4.count(\"Gryffindor\")\n",
    "sly4 = HP_Book_4.count(\"Slytherin\")\n",
    "rave4 = HP_Book_4.count(\"Ravenclaw\")\n",
    "huff4 = HP_Book_4.count(\"Hufflepuff\")\n",
    "houses_book4 = [['Gryffindor', gryf4], ['Slytherin', sly4], ['Ravenclaw', rave4],['Hufflepuff', huff4]]\n",
    "df_houses_book4 =pd.DataFrame(houses_book4, columns=['House', 'Mentions']).sort_values(\"Mentions\", axis = 0, ascending = False)\n",
    "df_houses_book4"
   ]
  },
  {
   "cell_type": "code",
   "execution_count": 684,
   "metadata": {},
   "outputs": [
    {
     "data": {
      "text/html": [
       "<div>\n",
       "<style scoped>\n",
       "    .dataframe tbody tr th:only-of-type {\n",
       "        vertical-align: middle;\n",
       "    }\n",
       "\n",
       "    .dataframe tbody tr th {\n",
       "        vertical-align: top;\n",
       "    }\n",
       "\n",
       "    .dataframe thead th {\n",
       "        text-align: right;\n",
       "    }\n",
       "</style>\n",
       "<table border=\"1\" class=\"dataframe\">\n",
       "  <thead>\n",
       "    <tr style=\"text-align: right;\">\n",
       "      <th></th>\n",
       "      <th>House</th>\n",
       "      <th>Mentions</th>\n",
       "    </tr>\n",
       "  </thead>\n",
       "  <tbody>\n",
       "    <tr>\n",
       "      <th>0</th>\n",
       "      <td>Gryffindor</td>\n",
       "      <td>127</td>\n",
       "    </tr>\n",
       "    <tr>\n",
       "      <th>1</th>\n",
       "      <td>Slytherin</td>\n",
       "      <td>81</td>\n",
       "    </tr>\n",
       "    <tr>\n",
       "      <th>2</th>\n",
       "      <td>Ravenclaw</td>\n",
       "      <td>33</td>\n",
       "    </tr>\n",
       "    <tr>\n",
       "      <th>3</th>\n",
       "      <td>Hufflepuff</td>\n",
       "      <td>26</td>\n",
       "    </tr>\n",
       "  </tbody>\n",
       "</table>\n",
       "</div>"
      ],
      "text/plain": [
       "        House  Mentions\n",
       "0  Gryffindor       127\n",
       "1   Slytherin        81\n",
       "2   Ravenclaw        33\n",
       "3  Hufflepuff        26"
      ]
     },
     "execution_count": 684,
     "metadata": {},
     "output_type": "execute_result"
    }
   ],
   "source": [
    "# Book 5 - The Order of the Phoenix\n",
    "gryf5 = HP_Book_5.count(\"Gryffindor\")\n",
    "sly5 = HP_Book_5.count(\"Slytherin\")\n",
    "rave5 = HP_Book_5.count(\"Ravenclaw\")\n",
    "huff5 = HP_Book_5.count(\"Hufflepuff\")\n",
    "houses_book5 = [['Gryffindor', gryf5], ['Slytherin', sly5], ['Ravenclaw', rave5],['Hufflepuff', huff5]]\n",
    "df_houses_book5 =pd.DataFrame(houses_book5, columns=['House', 'Mentions']).sort_values(\"Mentions\", axis = 0, ascending = False)\n",
    "df_houses_book5"
   ]
  },
  {
   "cell_type": "code",
   "execution_count": 685,
   "metadata": {},
   "outputs": [
    {
     "data": {
      "text/html": [
       "<div>\n",
       "<style scoped>\n",
       "    .dataframe tbody tr th:only-of-type {\n",
       "        vertical-align: middle;\n",
       "    }\n",
       "\n",
       "    .dataframe tbody tr th {\n",
       "        vertical-align: top;\n",
       "    }\n",
       "\n",
       "    .dataframe thead th {\n",
       "        text-align: right;\n",
       "    }\n",
       "</style>\n",
       "<table border=\"1\" class=\"dataframe\">\n",
       "  <thead>\n",
       "    <tr style=\"text-align: right;\">\n",
       "      <th></th>\n",
       "      <th>House</th>\n",
       "      <th>Mentions</th>\n",
       "    </tr>\n",
       "  </thead>\n",
       "  <tbody>\n",
       "    <tr>\n",
       "      <th>0</th>\n",
       "      <td>Gryffindor</td>\n",
       "      <td>72</td>\n",
       "    </tr>\n",
       "    <tr>\n",
       "      <th>1</th>\n",
       "      <td>Slytherin</td>\n",
       "      <td>57</td>\n",
       "    </tr>\n",
       "    <tr>\n",
       "      <th>3</th>\n",
       "      <td>Hufflepuff</td>\n",
       "      <td>23</td>\n",
       "    </tr>\n",
       "    <tr>\n",
       "      <th>2</th>\n",
       "      <td>Ravenclaw</td>\n",
       "      <td>19</td>\n",
       "    </tr>\n",
       "  </tbody>\n",
       "</table>\n",
       "</div>"
      ],
      "text/plain": [
       "        House  Mentions\n",
       "0  Gryffindor        72\n",
       "1   Slytherin        57\n",
       "3  Hufflepuff        23\n",
       "2   Ravenclaw        19"
      ]
     },
     "execution_count": 685,
     "metadata": {},
     "output_type": "execute_result"
    }
   ],
   "source": [
    "#Book 6 - The Half Blood Prince\n",
    "gryf6 = HP_Book_6.count(\"Gryffindor\")\n",
    "sly6 = HP_Book_6.count(\"Slytherin\")\n",
    "rave6 = HP_Book_6.count(\"Ravenclaw\")\n",
    "huff6 = HP_Book_6.count(\"Hufflepuff\")\n",
    "houses_book6 = [['Gryffindor', gryf6], ['Slytherin', sly6], ['Ravenclaw', rave6],['Hufflepuff', huff6]]\n",
    "df_houses_book6 =pd.DataFrame(houses_book6, columns=['House', 'Mentions']).sort_values(\"Mentions\", axis = 0, ascending = False)\n",
    "df_houses_book6"
   ]
  },
  {
   "cell_type": "code",
   "execution_count": 691,
   "metadata": {},
   "outputs": [
    {
     "data": {
      "text/html": [
       "<div>\n",
       "<style scoped>\n",
       "    .dataframe tbody tr th:only-of-type {\n",
       "        vertical-align: middle;\n",
       "    }\n",
       "\n",
       "    .dataframe tbody tr th {\n",
       "        vertical-align: top;\n",
       "    }\n",
       "\n",
       "    .dataframe thead th {\n",
       "        text-align: right;\n",
       "    }\n",
       "</style>\n",
       "<table border=\"1\" class=\"dataframe\">\n",
       "  <thead>\n",
       "    <tr style=\"text-align: right;\">\n",
       "      <th></th>\n",
       "      <th>House</th>\n",
       "      <th>Mentions</th>\n",
       "    </tr>\n",
       "  </thead>\n",
       "  <tbody>\n",
       "    <tr>\n",
       "      <th>0</th>\n",
       "      <td>Gryffindor</td>\n",
       "      <td>72</td>\n",
       "    </tr>\n",
       "    <tr>\n",
       "      <th>2</th>\n",
       "      <td>Ravenclaw</td>\n",
       "      <td>48</td>\n",
       "    </tr>\n",
       "    <tr>\n",
       "      <th>1</th>\n",
       "      <td>Slytherin</td>\n",
       "      <td>35</td>\n",
       "    </tr>\n",
       "    <tr>\n",
       "      <th>3</th>\n",
       "      <td>Hufflepuff</td>\n",
       "      <td>11</td>\n",
       "    </tr>\n",
       "  </tbody>\n",
       "</table>\n",
       "</div>"
      ],
      "text/plain": [
       "        House  Mentions\n",
       "0  Gryffindor        72\n",
       "2   Ravenclaw        48\n",
       "1   Slytherin        35\n",
       "3  Hufflepuff        11"
      ]
     },
     "execution_count": 691,
     "metadata": {},
     "output_type": "execute_result"
    }
   ],
   "source": [
    "# Book 7 - The Deathly Hallows\n",
    "gryf7 = HP_Book_7.count(\"Gryffindor\")\n",
    "sly7 = HP_Book_7.count(\"Slytherin\")\n",
    "rave7 = HP_Book_7.count(\"Ravenclaw\")\n",
    "huff7 = HP_Book_7.count(\"Hufflepuff\")\n",
    "houses_book7 = [['Gryffindor', gryf7], ['Slytherin', sly7], ['Ravenclaw', rave7],['Hufflepuff', huff7]]\n",
    "df_houses_book7 =pd.DataFrame(houses_book7, columns=['House', 'Mentions']).sort_values(\"Mentions\", axis = 0, ascending = False)\n",
    "df_houses_book7"
   ]
  },
  {
   "cell_type": "code",
   "execution_count": 692,
   "metadata": {},
   "outputs": [
    {
     "data": {
      "text/html": [
       "<div>\n",
       "<style scoped>\n",
       "    .dataframe tbody tr th:only-of-type {\n",
       "        vertical-align: middle;\n",
       "    }\n",
       "\n",
       "    .dataframe tbody tr th {\n",
       "        vertical-align: top;\n",
       "    }\n",
       "\n",
       "    .dataframe thead th {\n",
       "        text-align: right;\n",
       "    }\n",
       "</style>\n",
       "<table border=\"1\" class=\"dataframe\">\n",
       "  <thead>\n",
       "    <tr style=\"text-align: right;\">\n",
       "      <th></th>\n",
       "      <th>House</th>\n",
       "      <th>Mentions_x</th>\n",
       "      <th>Mentions_y</th>\n",
       "      <th>Mentions_x</th>\n",
       "      <th>Mentions_y</th>\n",
       "      <th>Mentions_x</th>\n",
       "      <th>Mentions_y</th>\n",
       "      <th>Mentions</th>\n",
       "    </tr>\n",
       "  </thead>\n",
       "  <tbody>\n",
       "    <tr>\n",
       "      <th>Gryffindor</th>\n",
       "      <td>Gryffindor</td>\n",
       "      <td>97</td>\n",
       "      <td>95</td>\n",
       "      <td>129</td>\n",
       "      <td>85</td>\n",
       "      <td>127</td>\n",
       "      <td>72</td>\n",
       "      <td>72</td>\n",
       "    </tr>\n",
       "    <tr>\n",
       "      <th>Slytherin</th>\n",
       "      <td>Slytherin</td>\n",
       "      <td>63</td>\n",
       "      <td>120</td>\n",
       "      <td>68</td>\n",
       "      <td>49</td>\n",
       "      <td>81</td>\n",
       "      <td>57</td>\n",
       "      <td>35</td>\n",
       "    </tr>\n",
       "    <tr>\n",
       "      <th>Hufflepuff</th>\n",
       "      <td>Hufflepuff</td>\n",
       "      <td>19</td>\n",
       "      <td>19</td>\n",
       "      <td>16</td>\n",
       "      <td>34</td>\n",
       "      <td>26</td>\n",
       "      <td>23</td>\n",
       "      <td>11</td>\n",
       "    </tr>\n",
       "    <tr>\n",
       "      <th>Ravenclaw</th>\n",
       "      <td>Ravenclaw</td>\n",
       "      <td>11</td>\n",
       "      <td>10</td>\n",
       "      <td>31</td>\n",
       "      <td>21</td>\n",
       "      <td>33</td>\n",
       "      <td>19</td>\n",
       "      <td>48</td>\n",
       "    </tr>\n",
       "  </tbody>\n",
       "</table>\n",
       "</div>"
      ],
      "text/plain": [
       "                 House  Mentions_x  Mentions_y  Mentions_x  Mentions_y  \\\n",
       "Gryffindor  Gryffindor          97          95         129          85   \n",
       "Slytherin    Slytherin          63         120          68          49   \n",
       "Hufflepuff  Hufflepuff          19          19          16          34   \n",
       "Ravenclaw    Ravenclaw          11          10          31          21   \n",
       "\n",
       "            Mentions_x  Mentions_y  Mentions  \n",
       "Gryffindor         127          72        72  \n",
       "Slytherin           81          57        35  \n",
       "Hufflepuff          26          23        11  \n",
       "Ravenclaw           33          19        48  "
      ]
     },
     "execution_count": 692,
     "metadata": {},
     "output_type": "execute_result"
    }
   ],
   "source": [
    "# Merge Dataframes\n",
    "df1 = [df_houses_book1,df_houses_book2,df_houses_book3,df_houses_book4,df_houses_book5,df_houses_book6,df_houses_book7]\n",
    "df_final = reduce(lambda left,right: pd.merge(left,right,on='House'), df1)\n",
    "df_final.rename(index={0:'Gryffindor',1:'Slytherin',2:'Hufflepuff',3:'Ravenclaw'}, inplace=True)\n",
    "df_final"
   ]
  },
  {
   "cell_type": "code",
   "execution_count": 693,
   "metadata": {},
   "outputs": [
    {
     "data": {
      "text/html": [
       "<div>\n",
       "<style scoped>\n",
       "    .dataframe tbody tr th:only-of-type {\n",
       "        vertical-align: middle;\n",
       "    }\n",
       "\n",
       "    .dataframe tbody tr th {\n",
       "        vertical-align: top;\n",
       "    }\n",
       "\n",
       "    .dataframe thead th {\n",
       "        text-align: right;\n",
       "    }\n",
       "</style>\n",
       "<table border=\"1\" class=\"dataframe\">\n",
       "  <thead>\n",
       "    <tr style=\"text-align: right;\">\n",
       "      <th></th>\n",
       "      <th>House</th>\n",
       "      <th>Book1</th>\n",
       "      <th>Book2</th>\n",
       "      <th>Book3</th>\n",
       "      <th>Book4</th>\n",
       "      <th>Book5</th>\n",
       "      <th>Book6</th>\n",
       "      <th>Book7</th>\n",
       "    </tr>\n",
       "  </thead>\n",
       "  <tbody>\n",
       "    <tr>\n",
       "      <th>Gryffindor</th>\n",
       "      <td>Gryffindor</td>\n",
       "      <td>97</td>\n",
       "      <td>95</td>\n",
       "      <td>129</td>\n",
       "      <td>85</td>\n",
       "      <td>127</td>\n",
       "      <td>72</td>\n",
       "      <td>72</td>\n",
       "    </tr>\n",
       "    <tr>\n",
       "      <th>Slytherin</th>\n",
       "      <td>Slytherin</td>\n",
       "      <td>63</td>\n",
       "      <td>120</td>\n",
       "      <td>68</td>\n",
       "      <td>49</td>\n",
       "      <td>81</td>\n",
       "      <td>57</td>\n",
       "      <td>35</td>\n",
       "    </tr>\n",
       "    <tr>\n",
       "      <th>Hufflepuff</th>\n",
       "      <td>Hufflepuff</td>\n",
       "      <td>19</td>\n",
       "      <td>19</td>\n",
       "      <td>16</td>\n",
       "      <td>34</td>\n",
       "      <td>26</td>\n",
       "      <td>23</td>\n",
       "      <td>11</td>\n",
       "    </tr>\n",
       "    <tr>\n",
       "      <th>Ravenclaw</th>\n",
       "      <td>Ravenclaw</td>\n",
       "      <td>11</td>\n",
       "      <td>10</td>\n",
       "      <td>31</td>\n",
       "      <td>21</td>\n",
       "      <td>33</td>\n",
       "      <td>19</td>\n",
       "      <td>48</td>\n",
       "    </tr>\n",
       "  </tbody>\n",
       "</table>\n",
       "</div>"
      ],
      "text/plain": [
       "                 House  Book1  Book2  Book3  Book4  Book5  Book6  Book7\n",
       "Gryffindor  Gryffindor     97     95    129     85    127     72     72\n",
       "Slytherin    Slytherin     63    120     68     49     81     57     35\n",
       "Hufflepuff  Hufflepuff     19     19     16     34     26     23     11\n",
       "Ravenclaw    Ravenclaw     11     10     31     21     33     19     48"
      ]
     },
     "execution_count": 693,
     "metadata": {},
     "output_type": "execute_result"
    }
   ],
   "source": [
    "# Rename Columns\n",
    "d = {'Mentions_x': ['Book1', 'Book3', 'Book5'],'Mentions_y': ['Book2', 'Book4', 'Book6'],'Mentions': ['Book7']}\n",
    "df_final = df_final.rename(columns=lambda c: d[c].pop(0) if c in d.keys() else c)\n",
    "df_final"
   ]
  },
  {
   "cell_type": "code",
   "execution_count": 694,
   "metadata": {},
   "outputs": [
    {
     "data": {
      "text/html": [
       "<div>\n",
       "<style scoped>\n",
       "    .dataframe tbody tr th:only-of-type {\n",
       "        vertical-align: middle;\n",
       "    }\n",
       "\n",
       "    .dataframe tbody tr th {\n",
       "        vertical-align: top;\n",
       "    }\n",
       "\n",
       "    .dataframe thead th {\n",
       "        text-align: right;\n",
       "    }\n",
       "</style>\n",
       "<table border=\"1\" class=\"dataframe\">\n",
       "  <thead>\n",
       "    <tr style=\"text-align: right;\">\n",
       "      <th></th>\n",
       "      <th>Gryffindor</th>\n",
       "      <th>Slytherin</th>\n",
       "      <th>Hufflepuff</th>\n",
       "      <th>Ravenclaw</th>\n",
       "    </tr>\n",
       "  </thead>\n",
       "  <tbody>\n",
       "    <tr>\n",
       "      <th>Book1</th>\n",
       "      <td>97</td>\n",
       "      <td>63</td>\n",
       "      <td>19</td>\n",
       "      <td>11</td>\n",
       "    </tr>\n",
       "    <tr>\n",
       "      <th>Book2</th>\n",
       "      <td>95</td>\n",
       "      <td>120</td>\n",
       "      <td>19</td>\n",
       "      <td>10</td>\n",
       "    </tr>\n",
       "    <tr>\n",
       "      <th>Book3</th>\n",
       "      <td>129</td>\n",
       "      <td>68</td>\n",
       "      <td>16</td>\n",
       "      <td>31</td>\n",
       "    </tr>\n",
       "    <tr>\n",
       "      <th>Book4</th>\n",
       "      <td>85</td>\n",
       "      <td>49</td>\n",
       "      <td>34</td>\n",
       "      <td>21</td>\n",
       "    </tr>\n",
       "    <tr>\n",
       "      <th>Book5</th>\n",
       "      <td>127</td>\n",
       "      <td>81</td>\n",
       "      <td>26</td>\n",
       "      <td>33</td>\n",
       "    </tr>\n",
       "    <tr>\n",
       "      <th>Book6</th>\n",
       "      <td>72</td>\n",
       "      <td>57</td>\n",
       "      <td>23</td>\n",
       "      <td>19</td>\n",
       "    </tr>\n",
       "    <tr>\n",
       "      <th>Book7</th>\n",
       "      <td>72</td>\n",
       "      <td>35</td>\n",
       "      <td>11</td>\n",
       "      <td>48</td>\n",
       "    </tr>\n",
       "  </tbody>\n",
       "</table>\n",
       "</div>"
      ],
      "text/plain": [
       "      Gryffindor Slytherin Hufflepuff Ravenclaw\n",
       "Book1         97        63         19        11\n",
       "Book2         95       120         19        10\n",
       "Book3        129        68         16        31\n",
       "Book4         85        49         34        21\n",
       "Book5        127        81         26        33\n",
       "Book6         72        57         23        19\n",
       "Book7         72        35         11        48"
      ]
     },
     "execution_count": 694,
     "metadata": {},
     "output_type": "execute_result"
    }
   ],
   "source": [
    "df_final1 = df_final.transpose()\n",
    "df_final1 = df_final1.drop(['House'])\n",
    "df_final1"
   ]
  },
  {
   "cell_type": "code",
   "execution_count": 695,
   "metadata": {},
   "outputs": [
    {
     "data": {
      "image/png": "[encoded data removed]",
      "text/plain": [
       "<Figure size 720x360 with 1 Axes>"
      ]
     },
     "metadata": {
      "needs_background": "light"
     },
     "output_type": "display_data"
    }
   ],
   "source": [
    "# Plot \n",
    "df_final1.plot(kind = 'bar',cmap=cmap, linewidth=1,figsize = (10,5))\n",
    "\n",
    "# Labels\n",
    "plt.title('Hogwarts House Popularity Per Book',fontsize=20)\n",
    "plt.ylabel('Number of Times Mentioned',fontsize=15)\n",
    "plt.xlabel('Book Saga',fontsize=15)\n",
    "plt.savefig('popHPhouse.png')\n",
    "leg = plt.legend()\n",
    "\n",
    "# Legend\n",
    "leg.get_texts()[0].set_text('Gryffindor')\n",
    "leg.get_texts()[1].set_text('Slytherin')\n",
    "leg.get_texts()[2].set_text('Hufflepuff')\n",
    "leg.get_texts()[3].set_text('Ravenclaw')"
   ]
  },
  {
   "cell_type": "code",
   "execution_count": 696,
   "metadata": {},
   "outputs": [
    {
     "data": {
      "text/html": [
       "<div>\n",
       "<style scoped>\n",
       "    .dataframe tbody tr th:only-of-type {\n",
       "        vertical-align: middle;\n",
       "    }\n",
       "\n",
       "    .dataframe tbody tr th {\n",
       "        vertical-align: top;\n",
       "    }\n",
       "\n",
       "    .dataframe thead th {\n",
       "        text-align: right;\n",
       "    }\n",
       "</style>\n",
       "<table border=\"1\" class=\"dataframe\">\n",
       "  <thead>\n",
       "    <tr style=\"text-align: right;\">\n",
       "      <th></th>\n",
       "      <th>Gryffindor</th>\n",
       "      <th>Slytherin</th>\n",
       "      <th>Hufflepuff</th>\n",
       "      <th>Ravenclaw</th>\n",
       "    </tr>\n",
       "  </thead>\n",
       "  <tbody>\n",
       "    <tr>\n",
       "      <th>Book1</th>\n",
       "      <td>97</td>\n",
       "      <td>63</td>\n",
       "      <td>19</td>\n",
       "      <td>11</td>\n",
       "    </tr>\n",
       "    <tr>\n",
       "      <th>Book2</th>\n",
       "      <td>95</td>\n",
       "      <td>120</td>\n",
       "      <td>19</td>\n",
       "      <td>10</td>\n",
       "    </tr>\n",
       "    <tr>\n",
       "      <th>Book3</th>\n",
       "      <td>129</td>\n",
       "      <td>68</td>\n",
       "      <td>16</td>\n",
       "      <td>31</td>\n",
       "    </tr>\n",
       "    <tr>\n",
       "      <th>Book4</th>\n",
       "      <td>85</td>\n",
       "      <td>49</td>\n",
       "      <td>34</td>\n",
       "      <td>21</td>\n",
       "    </tr>\n",
       "    <tr>\n",
       "      <th>Book5</th>\n",
       "      <td>127</td>\n",
       "      <td>81</td>\n",
       "      <td>26</td>\n",
       "      <td>33</td>\n",
       "    </tr>\n",
       "    <tr>\n",
       "      <th>Book6</th>\n",
       "      <td>72</td>\n",
       "      <td>57</td>\n",
       "      <td>23</td>\n",
       "      <td>19</td>\n",
       "    </tr>\n",
       "    <tr>\n",
       "      <th>Book7</th>\n",
       "      <td>72</td>\n",
       "      <td>35</td>\n",
       "      <td>11</td>\n",
       "      <td>48</td>\n",
       "    </tr>\n",
       "    <tr>\n",
       "      <th>Total</th>\n",
       "      <td>677</td>\n",
       "      <td>473</td>\n",
       "      <td>148</td>\n",
       "      <td>173</td>\n",
       "    </tr>\n",
       "  </tbody>\n",
       "</table>\n",
       "</div>"
      ],
      "text/plain": [
       "      Gryffindor Slytherin Hufflepuff Ravenclaw\n",
       "Book1         97        63         19        11\n",
       "Book2         95       120         19        10\n",
       "Book3        129        68         16        31\n",
       "Book4         85        49         34        21\n",
       "Book5        127        81         26        33\n",
       "Book6         72        57         23        19\n",
       "Book7         72        35         11        48\n",
       "Total        677       473        148       173"
      ]
     },
     "execution_count": 696,
     "metadata": {},
     "output_type": "execute_result"
    }
   ],
   "source": [
    "# Find Total For Each House\n",
    "df_final2 = df_final1.copy()\n",
    "df_final2.loc['Total'] = df_final2.sum()\n",
    "df_final2"
   ]
  },
  {
   "cell_type": "code",
   "execution_count": 697,
   "metadata": {},
   "outputs": [
    {
     "data": {
      "image/png": "[encoded data removed]",
      "text/plain": [
       "<Figure size 720x360 with 1 Axes>"
      ]
     },
     "metadata": {
      "needs_background": "light"
     },
     "output_type": "display_data"
    }
   ],
   "source": [
    "# Plot The Total\n",
    "total2 = df_final2.iloc[7]\n",
    "total2.plot(kind = 'bar', cmap=cmap, linewidth=1,figsize = (10,5))\n",
    "\n",
    "# Labels\n",
    "plt.title('Total Hogwarts House Popularity Throughout Harry Potter Saga',fontsize=20)\n",
    "plt.ylabel('Total Times Mentioned',fontsize=15)\n",
    "plt.xlabel('Hogwarts Houses',fontsize=15)\n",
    "plt.savefig('popHPhousetotal.png')"
   ]
  },
  {
   "cell_type": "code",
   "execution_count": 698,
   "metadata": {},
   "outputs": [
    {
     "data": {
      "text/plain": [
       "0.9869908502021708"
      ]
     },
     "execution_count": 698,
     "metadata": {},
     "output_type": "execute_result"
    }
   ],
   "source": [
    "# Correlation between Gryffindor and Slytherin\n",
    "df_final2['Gryffindor'].astype('float64').corr(df_final2['Slytherin'].astype('float64'))"
   ]
  },
  {
   "cell_type": "code",
   "execution_count": 699,
   "metadata": {},
   "outputs": [
    {
     "data": {
      "text/plain": [
       "0.9681984973085955"
      ]
     },
     "execution_count": 699,
     "metadata": {},
     "output_type": "execute_result"
    }
   ],
   "source": [
    "# Correlation between Gryffindor and Ravenclaw\n",
    "df_final2['Gryffindor'].astype('float64').corr(df_final2['Ravenclaw'].astype('float64'))"
   ]
  },
  {
   "cell_type": "code",
   "execution_count": 651,
   "metadata": {},
   "outputs": [
    {
     "data": {
      "text/plain": [
       "0.9835143910030247"
      ]
     },
     "execution_count": 651,
     "metadata": {},
     "output_type": "execute_result"
    }
   ],
   "source": [
    "# Correlation between Gryffindor and Hufflepuff\n",
    "df_final2['Gryffindor'].astype('float64').corr(df_final2['Hufflepuff'].astype('float64'))"
   ]
  },
  {
   "cell_type": "markdown",
   "metadata": {},
   "source": [
    "#### Q2 Interpritation ####\n",
    "After getting the count for each Hogwarts house mentioned, we can see with the bar plot that across all but one book, Gryffindor is the most popular with 677 mentions. This is not surprising as the 3 main characters are in Gryffindor. Leading behind them is Slytherin with 473 mentions which is not surprising as well since the book's antagonist, Voldemort, has a history in the Slytherin house. It was surprising that Slytherin was the most popular house in the 2nd book, Chamber of Secrets, since the main characters were still leading the story in this one. I believe it has to do with the fact that the story took place in mainly Slytherin dominated parts of Hogwarts such as the actual Chamber of Secrets. The 3rd most popular is Hufflepuff with 148 mentions and the 4th Ravenclaw with 173 mentions. These last two rankings are not surprising as they did not have a giant storyline in the books. \n",
    "\n",
    "Additionally, I found the correlation between the most popular house and the other three. Gryffindor and Slytherin had the strongest correlation with .986, then it was Gryffindor and Hufflepuff with a .983 correlation and lastly Gryffindor and Ravenclaw with a .968 correlation. The strongest correlation is expected as the houses are continued nemesis throughout the series. "
   ]
  },
  {
   "cell_type": "markdown",
   "metadata": {},
   "source": [
    "# Q3: How can we classify the sentiment of the Harry Potter books?"
   ]
  },
  {
   "cell_type": "code",
   "execution_count": 700,
   "metadata": {},
   "outputs": [],
   "source": [
    "# Apply Text Blob from question 1"
   ]
  },
  {
   "cell_type": "code",
   "execution_count": 701,
   "metadata": {},
   "outputs": [
    {
     "name": "stdout",
     "output_type": "stream",
     "text": [
      "Sentiment(polarity=0.044786892023778016, subjectivity=0.483304617428642)\n",
      "0.044786892023778016\n"
     ]
    }
   ],
   "source": [
    "# Calculate sentiment polarity and subjectivity for entire series\n",
    "print(all_words.sentiment)\n",
    "print(all_words.polarity)"
   ]
  },
  {
   "cell_type": "code",
   "execution_count": 702,
   "metadata": {},
   "outputs": [],
   "source": [
    "# Calculate and show sentiment polarity and subjectivity\n",
    "# Sentiment property returns a namedtuple of the form Sentiment(polarity, subjectivity)\n",
    "\n",
    "sentiment=[]\n",
    "for sentence in all_words.sentences:\n",
    "    sentiment.append(sentence.sentiment)\n",
    "    \n",
    "# Add to dataframe    \n",
    "df_sen_pol= pd.DataFrame(sentiment)\n",
    "df_sen_pol.index.name = 'index'"
   ]
  },
  {
   "cell_type": "code",
   "execution_count": 711,
   "metadata": {},
   "outputs": [
    {
     "data": {
      "text/html": [
       "<div>\n",
       "<style scoped>\n",
       "    .dataframe tbody tr th:only-of-type {\n",
       "        vertical-align: middle;\n",
       "    }\n",
       "\n",
       "    .dataframe tbody tr th {\n",
       "        vertical-align: top;\n",
       "    }\n",
       "\n",
       "    .dataframe thead th {\n",
       "        text-align: right;\n",
       "    }\n",
       "</style>\n",
       "<table border=\"1\" class=\"dataframe\">\n",
       "  <thead>\n",
       "    <tr style=\"text-align: right;\">\n",
       "      <th></th>\n",
       "      <th>polarity</th>\n",
       "      <th>subjectivity</th>\n",
       "    </tr>\n",
       "    <tr>\n",
       "      <th>index</th>\n",
       "      <th></th>\n",
       "      <th></th>\n",
       "    </tr>\n",
       "  </thead>\n",
       "  <tbody>\n",
       "    <tr>\n",
       "      <th>0</th>\n",
       "      <td>0.403333</td>\n",
       "      <td>0.636667</td>\n",
       "    </tr>\n",
       "    <tr>\n",
       "      <th>1</th>\n",
       "      <td>-0.012500</td>\n",
       "      <td>0.429167</td>\n",
       "    </tr>\n",
       "    <tr>\n",
       "      <th>2</th>\n",
       "      <td>-0.200000</td>\n",
       "      <td>0.400000</td>\n",
       "    </tr>\n",
       "    <tr>\n",
       "      <th>3</th>\n",
       "      <td>0.046726</td>\n",
       "      <td>0.524702</td>\n",
       "    </tr>\n",
       "    <tr>\n",
       "      <th>4</th>\n",
       "      <td>-0.008571</td>\n",
       "      <td>0.257143</td>\n",
       "    </tr>\n",
       "  </tbody>\n",
       "</table>\n",
       "</div>"
      ],
      "text/plain": [
       "       polarity  subjectivity\n",
       "index                        \n",
       "0      0.403333      0.636667\n",
       "1     -0.012500      0.429167\n",
       "2     -0.200000      0.400000\n",
       "3      0.046726      0.524702\n",
       "4     -0.008571      0.257143"
      ]
     },
     "execution_count": 711,
     "metadata": {},
     "output_type": "execute_result"
    }
   ],
   "source": [
    "# Look at data\n",
    "df_sen_pol.head()"
   ]
  },
  {
   "cell_type": "code",
   "execution_count": 704,
   "metadata": {},
   "outputs": [
    {
     "data": {
      "text/html": [
       "<div>\n",
       "<style scoped>\n",
       "    .dataframe tbody tr th:only-of-type {\n",
       "        vertical-align: middle;\n",
       "    }\n",
       "\n",
       "    .dataframe tbody tr th {\n",
       "        vertical-align: top;\n",
       "    }\n",
       "\n",
       "    .dataframe thead th {\n",
       "        text-align: right;\n",
       "    }\n",
       "</style>\n",
       "<table border=\"1\" class=\"dataframe\">\n",
       "  <thead>\n",
       "    <tr style=\"text-align: right;\">\n",
       "      <th></th>\n",
       "      <th>polarity</th>\n",
       "      <th>subjectivity</th>\n",
       "    </tr>\n",
       "  </thead>\n",
       "  <tbody>\n",
       "    <tr>\n",
       "      <th>count</th>\n",
       "      <td>63914.000000</td>\n",
       "      <td>63914.000000</td>\n",
       "    </tr>\n",
       "    <tr>\n",
       "      <th>mean</th>\n",
       "      <td>0.027337</td>\n",
       "      <td>0.319369</td>\n",
       "    </tr>\n",
       "    <tr>\n",
       "      <th>std</th>\n",
       "      <td>0.250242</td>\n",
       "      <td>0.314868</td>\n",
       "    </tr>\n",
       "    <tr>\n",
       "      <th>min</th>\n",
       "      <td>-1.000000</td>\n",
       "      <td>0.000000</td>\n",
       "    </tr>\n",
       "    <tr>\n",
       "      <th>25%</th>\n",
       "      <td>-0.016667</td>\n",
       "      <td>0.000000</td>\n",
       "    </tr>\n",
       "    <tr>\n",
       "      <th>50%</th>\n",
       "      <td>0.000000</td>\n",
       "      <td>0.300000</td>\n",
       "    </tr>\n",
       "    <tr>\n",
       "      <th>75%</th>\n",
       "      <td>0.100000</td>\n",
       "      <td>0.535714</td>\n",
       "    </tr>\n",
       "    <tr>\n",
       "      <th>max</th>\n",
       "      <td>1.000000</td>\n",
       "      <td>1.000000</td>\n",
       "    </tr>\n",
       "  </tbody>\n",
       "</table>\n",
       "</div>"
      ],
      "text/plain": [
       "           polarity  subjectivity\n",
       "count  63914.000000  63914.000000\n",
       "mean       0.027337      0.319369\n",
       "std        0.250242      0.314868\n",
       "min       -1.000000      0.000000\n",
       "25%       -0.016667      0.000000\n",
       "50%        0.000000      0.300000\n",
       "75%        0.100000      0.535714\n",
       "max        1.000000      1.000000"
      ]
     },
     "execution_count": 704,
     "metadata": {},
     "output_type": "execute_result"
    }
   ],
   "source": [
    "# Data described\n",
    "df_sen_pol.describe()"
   ]
  },
  {
   "cell_type": "code",
   "execution_count": 705,
   "metadata": {
    "scrolled": true
   },
   "outputs": [
    {
     "data": {
      "text/plain": [
       "<Figure size 720x360 with 0 Axes>"
      ]
     },
     "metadata": {},
     "output_type": "display_data"
    },
    {
     "data": {
      "image/png": "[encoded data removed]",
      "text/plain": [
       "<Figure size 432x432 with 3 Axes>"
      ]
     },
     "metadata": {
      "needs_background": "light"
     },
     "output_type": "display_data"
    }
   ],
   "source": [
    "# Plot polarity and subjectivity for the entire series\n",
    "plt.figure(figsize=(10, 5))\n",
    "sns.jointplot(\"polarity\", \"subjectivity\", data=df_sen_pol[(df_sen_pol.subjectivity != 0)], kind=\"kde\", color='maroon')\n",
    "\n",
    "# Labels\n",
    "plt.title('Polarity and Subjectivity for the entire Harry Potter Saga',fontsize=20)\n",
    "plt.savefig('polaritysub.png')"
   ]
  },
  {
   "cell_type": "markdown",
   "metadata": {},
   "source": [
    "#### Q3 Interpritation ####\n",
    "\n",
    "After running the entire series through TextBlob, we can get our sentiment analysis data. In doing so, it was able to analyze 63,914 sentences to achieve the current sentiment analysis. We can see that subjectivity, feelings expressed in the text, is .483 which means that it is slightly above neutral subjectivity due to its close nature to +1. The polarity, emotions in the text, is much more neutral at .044. The subjectivity is expected, but I thought the polarity might be a bit higher as the life and death nature of the books can stir up many emotions throughout its sentences. This should be understood though because the subjectivity and polarity are directly correlated. In looking at the joint plot, we can see the distribution in the sentiment analysis. Through the peaks in the graph, we can see that polarity is much more stable and neutral while subjectivity is more fluid. "
   ]
  },
  {
   "cell_type": "markdown",
   "metadata": {},
   "source": [
    "# Q4: How do Harry, Dubmbledore and Malfoy compare on a good vs evil scale?"
   ]
  },
  {
   "cell_type": "code",
   "execution_count": 706,
   "metadata": {},
   "outputs": [
    {
     "data": {
      "text/plain": [
       "['data/Book 1 - The Philosophers Stone.txt',\n",
       " 'data/Book 2 - The Chamber of Secrets.txt',\n",
       " 'data/Book 3 - The Prisoner of Azkaban.txt',\n",
       " 'data/Book 4 - The Goblet of Fire.txt',\n",
       " 'data/Book 5 - The Order of the Phoenix.txt',\n",
       " 'data/Book 6 - The Half Blood Prince.txt',\n",
       " 'data/Book 7 - The Deathly Hallows.txt']"
      ]
     },
     "execution_count": 706,
     "metadata": {},
     "output_type": "execute_result"
    }
   ],
   "source": [
    "# Word2Vec  \n",
    "\n",
    "# Load books sorted to better process model training\n",
    "load_books_sorted = sorted(glob.glob(\"data/*.txt\"))\n",
    "load_books_sorted"
   ]
  },
  {
   "cell_type": "code",
   "execution_count": 707,
   "metadata": {},
   "outputs": [],
   "source": [
    "# Put all the books into one doc/variable.\n",
    "space = \"\"\n",
    "for book in load_books_sorted:\n",
    "    with open(book) as complete:\n",
    "        space+= str(complete.read())       "
   ]
  },
  {
   "cell_type": "code",
   "execution_count": 708,
   "metadata": {},
   "outputs": [
    {
     "data": {
      "text/plain": [
       "6554138"
      ]
     },
     "execution_count": 708,
     "metadata": {},
     "output_type": "execute_result"
    }
   ],
   "source": [
    "# Cleaning data with regular expressions\n",
    "books = space.lower().strip()\n",
    "    # Replaces where the string contains a white space character plus some more\n",
    "books = re.sub('\\s+',' ',books)\n",
    "    # Replaces where the string contains digits\n",
    "books = re.sub('\\d',' ',books)\n",
    "    # Replaces where digits are between 0 and 9 + additional occurances \n",
    "books = re.sub('\\[[0-9]*\\]',' ',books)\n",
    "len(books)"
   ]
  },
  {
   "cell_type": "code",
   "execution_count": 709,
   "metadata": {},
   "outputs": [
    {
     "data": {
      "text/plain": [
       "62829"
      ]
     },
     "execution_count": 709,
     "metadata": {},
     "output_type": "execute_result"
    }
   ],
   "source": [
    "# Tokenizing\n",
    "import gensim\n",
    "\n",
    "tok_books = sent_tokenize(books) \n",
    "words1 = [word_tokenize(line) for line in tok_books]\n",
    "len(words1)\n",
    "#words\n",
    "# Kept getting errors for str callability"
   ]
  },
  {
   "cell_type": "code",
   "execution_count": 710,
   "metadata": {},
   "outputs": [],
   "source": [
    "# Delete Stop Words to better model and establish connections/relationships betwwen charachters\n",
    "#reference\n",
    "for line in range(len(words1)):\n",
    "    words1[line] = [word for word in words1[line] if word not in stopwords.words('english')]"
   ]
  },
  {
   "cell_type": "code",
   "execution_count": 290,
   "metadata": {},
   "outputs": [],
   "source": [
    "import gensim.models.word2vec as w2v"
   ]
  },
  {
   "cell_type": "code",
   "execution_count": 740,
   "metadata": {},
   "outputs": [],
   "source": [
    "# Building and Training the Word2Vec model\n",
    "import multiprocessing\n",
    "\n",
    "# Build\n",
    "num_features = 600\n",
    "min_word_count = 1\n",
    "num_workers = multiprocessing.cpu_count()\n",
    "context_size = 7\n",
    "downsampling = 1e-3\n",
    "seed = 1\n",
    "\n",
    "model = Word2Vec(words1, sg=1,\n",
    "    seed=seed,\n",
    "    workers=num_workers,\n",
    "    size=num_features,\n",
    "    min_count=min_word_count,\n",
    "    window=context_size,\n",
    "    sample=downsampling)"
   ]
  },
  {
   "cell_type": "code",
   "execution_count": 741,
   "metadata": {},
   "outputs": [
    {
     "name": "stderr",
     "output_type": "stream",
     "text": [
      "/opt/anaconda3/lib/python3.7/site-packages/ipykernel_launcher.py:2: DeprecationWarning: Call to deprecated `iter` (Attribute will be removed in 4.0.0, use self.epochs instead).\n",
      "  \n"
     ]
    },
    {
     "data": {
      "text/plain": [
       "(3136294, 4538750)"
      ]
     },
     "execution_count": 741,
     "metadata": {},
     "output_type": "execute_result"
    }
   ],
   "source": [
    "# Train\n",
    "model.train(words1, total_examples=model.corpus_count, epochs=model.iter)"
   ]
  },
  {
   "cell_type": "code",
   "execution_count": 742,
   "metadata": {},
   "outputs": [],
   "source": [
    "# Save for later\n",
    "model.save(os.path.join(\"data\", \"model.w2v\"))"
   ]
  },
  {
   "cell_type": "code",
   "execution_count": 743,
   "metadata": {},
   "outputs": [
    {
     "name": "stdout",
     "output_type": "stream",
     "text": [
      "True\n",
      "False\n",
      "Number of words: 62829\n",
      "[['hogsmeade', 'looked', 'like', 'christmas', 'card', ';', 'little', 'thatched', 'cottages', 'shops', 'covered', 'layer', 'crisp', 'snow', ';', 'holly', 'wreaths', 'page', '|', 'harry', 'potter', 'prisoner', 'azkaban', '-', 'j.k.', 'rowling', 'doors', 'strings', 'enchanted', 'candles', 'hanging', 'trees', '.'], ['harry', 'shivered', ';', 'unlike', 'two', ',', '’', 'cloak', '.'], ['headed', 'street', ',', 'heads', 'bowed', 'wind', ',', 'ron', 'hermione', 'shouting', 'scarves', '.'], ['“', '’', 'post', 'office', '—', '”', '“', 'zonko', '’', '—', '”', '“', 'could', 'go', 'shrieking', 'shack', '—', '”', '“', 'tell', ',', '”', 'said', 'ron', ',', 'teeth', 'chattering', ',', '“', 'shall', 'go', 'butterbeer', 'three', 'broomsticks', '?', '”', 'harry', 'willing', ';', 'wind', 'fierce', 'hands', 'freezing', ',', 'crossed', 'road', ',', 'minutes', 'entering', 'tiny', 'inn', '.'], ['extremely', 'crowded', ',', 'noisy', ',', 'warm', ',', 'smoky', '.'], ['curvy', 'sort', 'woman', 'pretty', 'face', 'serving', 'bunch', 'rowdy', 'warlocks', 'bar', '.'], ['“', '’', 'madam', 'rosmerta', ',', '”', 'said', 'ron', '.'], ['“', '’', 'get', 'drinks', ',', 'shall', '?', '”', 'added', ',', 'going', 'slightly', 'red', '.'], ['harry', 'hermione', 'made', 'way', 'back', 'room', ',', 'small', ',', 'vacant', 'table', 'window', 'handsome', 'christmas', 'tree', ',', 'stood', 'next', 'fireplace', '.'], ['ron', 'came', 'back', 'five', 'minutes', 'later', ',', 'carrying', 'three', 'foaming', 'tankards', 'hot', 'butterbeer', '.']]\n"
     ]
    }
   ],
   "source": [
    "# Understanding the model\n",
    "\n",
    "# Check for words\n",
    "print('hogwarts' in model.wv.vocab) #Should be True\n",
    "print('yuck' in model.wv.vocab) #Should be False\n",
    "\n",
    "# All the known words into a list & finding Length\n",
    "words = sorted(model.wv.vocab.keys())\n",
    "print(\"Number of words:\", len(words1))\n",
    "\n",
    "# Print 10 words in the vocab from index 13550 to 13570\n",
    "print(words1[13550:13560])"
   ]
  },
  {
   "cell_type": "code",
   "execution_count": 744,
   "metadata": {},
   "outputs": [
    {
     "name": "stdout",
     "output_type": "stream",
     "text": [
      "malfoy\n",
      "hagrid\n",
      "ron\n"
     ]
    },
    {
     "name": "stderr",
     "output_type": "stream",
     "text": [
      "/opt/anaconda3/lib/python3.7/site-packages/gensim/models/keyedvectors.py:877: FutureWarning: arrays to stack must be passed as a \"sequence\" type such as list or tuple. Support for non-sequence iterables such as generators is deprecated as of NumPy 1.16 and will raise an error in the future.\n",
      "  vectors = vstack(self.word_vec(word, use_norm=True) for word in used_words).astype(REAL)\n"
     ]
    }
   ],
   "source": [
    "# Testing accuracy\n",
    "\n",
    "def get_unmatching_word(words1):\n",
    "    for word in words1:\n",
    "        if not word in model.wv.vocab:\n",
    "            return None\n",
    "    return model.wv.doesnt_match(words1)\n",
    "\n",
    "# Testing who from the list is a villainous student \n",
    "print(get_unmatching_word(['harry', 'ron', 'malfoy','hermoine','luna'])) #Should be Malfoy\n",
    "# Testing who from the list is not a student\n",
    "print(get_unmatching_word(['harry', 'ron', 'malfoy','hermoine','hagrid'])) #Should be Hagrid\n",
    "# Testing who from the list is not a slytherin student\n",
    "print(get_unmatching_word(['ron', 'goyle', 'malfoy','crabbe','slytherin'])) #Should be Ron"
   ]
  },
  {
   "cell_type": "code",
   "execution_count": 745,
   "metadata": {},
   "outputs": [
    {
     "data": {
      "text/plain": [
       "[('ronan', 0.6159861087799072),\n",
       " ('cabin', 0.597328782081604),\n",
       " ('grawp', 0.5782542824745178),\n",
       " ('yeh', 0.5765154361724854),\n",
       " ('norbert', 0.5708436965942383),\n",
       " ('fang', 0.5597238540649414),\n",
       " ('bane', 0.5476123094558716),\n",
       " ('ter', 0.5453526973724365),\n",
       " ('thestrals', 0.5438872575759888),\n",
       " ('righ', 0.5404348373413086)]"
      ]
     },
     "execution_count": 745,
     "metadata": {},
     "output_type": "execute_result"
    }
   ],
   "source": [
    "# Testing the vectors semantic relations for hagrid.\n",
    "model.wv.most_similar('hagrid')"
   ]
  },
  {
   "cell_type": "code",
   "execution_count": 746,
   "metadata": {},
   "outputs": [
    {
     "data": {
      "text/plain": [
       "[('lily', 0.6597872972488403),\n",
       " ('mother', 0.6506403684616089),\n",
       " ('parents', 0.6388553380966187),\n",
       " ('inherited', 0.638725996017456),\n",
       " ('brother', 0.6387024521827698),\n",
       " ('peter', 0.6358973979949951)]"
      ]
     },
     "execution_count": 746,
     "metadata": {},
     "output_type": "execute_result"
    }
   ],
   "source": [
    "# Testing the vectors semantic relations with james potters relationship to snape.\n",
    "model.wv.most_similar(positive=['james', 'father'], negative=['snape'], topn=6)"
   ]
  },
  {
   "cell_type": "code",
   "execution_count": 747,
   "metadata": {},
   "outputs": [
    {
     "data": {
      "text/plain": [
       "[('professor', 0.5678082704544067),\n",
       " ('norris', 0.5218874216079712),\n",
       " ('dramatically', 0.5192212462425232),\n",
       " ('sprout', 0.515556812286377),\n",
       " ('caretaker', 0.5036527514457703),\n",
       " ('stern', 0.4959017038345337)]"
      ]
     },
     "execution_count": 747,
     "metadata": {},
     "output_type": "execute_result"
    }
   ],
   "source": [
    "# Testing the vectors semantic relations with prof. mcgonagall.\n",
    "model.wv.most_similar(positive=['mcgonagall', 'cat'], negative=['dog'], topn=6)"
   ]
  },
  {
   "cell_type": "code",
   "execution_count": 748,
   "metadata": {},
   "outputs": [
    {
     "data": {
      "text/plain": [
       "[('father', 0.60727459192276),\n",
       " ('james', 0.5751984119415283),\n",
       " ('inherited', 0.5529425144195557),\n",
       " ('eyes.', 0.5495509505271912),\n",
       " ('mudblood', 0.5456504821777344),\n",
       " ('mistress', 0.5412906408309937)]"
      ]
     },
     "execution_count": 748,
     "metadata": {},
     "output_type": "execute_result"
    }
   ],
   "source": [
    "# Testing the vectors semantic relations with lily potters relationship to death.\n",
    "model.wv.most_similar(positive=['lily', 'mother'], negative=['death'], topn=6)"
   ]
  },
  {
   "cell_type": "code",
   "execution_count": 749,
   "metadata": {},
   "outputs": [
    {
     "data": {
      "text/plain": [
       "[('witch', 0.6808496713638306),\n",
       " ('wheezes', 0.6280815005302429),\n",
       " ('famous', 0.5739194750785828),\n",
       " ('tufty-haired', 0.5607561469078064),\n",
       " ('full-grown', 0.559131383895874),\n",
       " ('medieval', 0.5559149980545044)]"
      ]
     },
     "execution_count": 749,
     "metadata": {},
     "output_type": "execute_result"
    }
   ],
   "source": [
    "# Testing the vectors semantic relations for wizard\n",
    "model.wv.most_similar(\"wizard\", topn=6)"
   ]
  },
  {
   "cell_type": "code",
   "execution_count": 750,
   "metadata": {},
   "outputs": [
    {
     "data": {
      "text/plain": [
       "array([ 8.30400735e-02, -1.28038853e-01, -7.82160014e-02, -1.46560758e-01,\n",
       "        4.03040022e-01, -1.72988310e-01,  5.44854477e-02,  1.57160014e-01,\n",
       "        9.48568657e-02,  2.59839296e-01,  1.70863979e-02,  4.22543168e-01,\n",
       "       -9.65579823e-02, -1.64198726e-01,  2.74597377e-01,  1.37540132e-01,\n",
       "        1.08627856e-01, -1.85936525e-01, -3.94284837e-02, -6.45567775e-02,\n",
       "        8.70702974e-03, -3.24904663e-03,  3.87136489e-01,  1.02510210e-02,\n",
       "       -1.95763186e-01, -1.86658606e-01,  2.18629763e-01, -1.07914268e-03,\n",
       "       -1.63472131e-01, -1.63881063e-01, -3.32353711e-02, -4.60848538e-03,\n",
       "       -1.52025789e-01,  1.66489914e-01,  2.36531273e-02, -1.41138107e-01,\n",
       "       -7.34752836e-03,  7.94795901e-02, -7.05076903e-02, -1.19300380e-01,\n",
       "        1.50698200e-01,  8.81137773e-02, -1.94008708e-01, -4.61654887e-02,\n",
       "        2.15380549e-01,  1.09213360e-01, -4.70859930e-02, -1.95792437e-01,\n",
       "        1.18975416e-01,  7.74242207e-02,  1.04941733e-01,  2.93269575e-01,\n",
       "        8.97681937e-02, -1.10407732e-01, -2.93904752e-01,  3.61791998e-02,\n",
       "       -2.81014711e-01,  4.69443381e-01, -1.18619460e-03, -5.87137379e-02,\n",
       "       -3.76226322e-04,  1.18435457e-01, -1.22169949e-01, -8.17686021e-02,\n",
       "        1.70817692e-02,  6.65150732e-02, -6.57261163e-02, -1.28854528e-01,\n",
       "       -2.06542183e-02, -1.47642776e-01,  5.45569696e-02, -8.77630934e-02,\n",
       "        9.70216915e-02,  1.99844182e-01, -1.30041614e-02, -2.56964475e-01,\n",
       "       -3.17303054e-02,  4.25665617e-01,  1.92039311e-01, -2.37737000e-01,\n",
       "       -1.23948120e-01,  1.88774131e-02,  9.69834477e-02,  1.01181939e-01,\n",
       "        1.80013582e-01,  2.03509361e-01, -1.77578285e-01,  9.92203802e-02,\n",
       "       -6.80928826e-02,  1.24770366e-01, -1.09396592e-01,  2.91994900e-01,\n",
       "        4.00729865e-01,  3.60933065e-01,  1.81840330e-01,  4.10719067e-02,\n",
       "        4.83413935e-01,  5.16036227e-02, -8.80649909e-02,  2.97573298e-01,\n",
       "        1.40859172e-01,  7.27254748e-02,  4.11710478e-02, -1.14126407e-01,\n",
       "        1.28371030e-01, -1.03694066e-01,  8.57055634e-02, -1.01436032e-02,\n",
       "       -1.05828486e-01,  1.46345928e-01,  1.63524970e-01,  1.83026418e-01,\n",
       "       -9.44404025e-03,  1.38727516e-01, -1.32380247e-01, -2.22887769e-01,\n",
       "        4.26871963e-02, -1.14739366e-01,  8.18487778e-02, -3.18501554e-02,\n",
       "       -2.53144175e-01,  7.12074637e-02,  2.86207329e-02, -3.34681422e-01,\n",
       "        6.94439262e-02, -2.22711980e-01,  1.42251030e-01,  2.19468221e-01,\n",
       "       -3.54510665e-01, -1.60773858e-01,  5.16691394e-02,  1.61352172e-01,\n",
       "       -8.93091932e-02, -4.38069701e-01,  1.79490939e-01, -2.06237197e-01,\n",
       "       -2.02440888e-01,  8.73132944e-02,  1.64020076e-01,  2.47466654e-01,\n",
       "       -3.33226286e-02,  2.99204379e-01,  7.31254369e-02, -6.48722351e-02,\n",
       "       -1.42399475e-01,  1.83796152e-01,  9.76996310e-03,  6.52684644e-02,\n",
       "        1.52409717e-01, -1.59570262e-01,  3.57726663e-02, -3.28161985e-01,\n",
       "        1.16918318e-01, -1.23982504e-01, -1.28056541e-01,  1.14964493e-01,\n",
       "       -7.01529682e-02, -1.49604872e-01,  2.85460263e-01,  3.35919142e-01,\n",
       "       -2.13596746e-01,  3.70161206e-01, -2.58608937e-01, -9.38590318e-02,\n",
       "       -1.01542428e-01, -8.68288577e-02, -2.52191186e-01,  3.30514997e-01,\n",
       "       -2.32548222e-01, -1.72475517e-01,  1.50140315e-01,  3.90357487e-02,\n",
       "        7.21693560e-02,  2.69609630e-01, -3.94156992e-01, -1.55603245e-01,\n",
       "        5.22090644e-02, -2.41814684e-02,  1.45845681e-01, -1.06712483e-01,\n",
       "        7.21804202e-02, -1.47619650e-01,  2.92020030e-02,  2.88492411e-01,\n",
       "        1.49532586e-01, -4.27744925e-01, -1.74581423e-01, -2.20791951e-01,\n",
       "       -3.43804687e-01,  4.71475162e-02, -2.20220596e-01, -2.84828484e-01,\n",
       "        1.17570244e-01,  1.35830000e-01, -2.57209539e-01,  4.72929329e-02,\n",
       "       -1.00945808e-01,  3.06605190e-01, -4.71379198e-02, -1.97245955e-01,\n",
       "        8.94429535e-03,  7.33844861e-02, -8.59152153e-02,  3.37672412e-01,\n",
       "        4.61852215e-02,  1.57970116e-02,  7.03913048e-02,  1.33585855e-01,\n",
       "        3.91432643e-03, -2.84443819e-03,  1.06600873e-01,  5.89835942e-02,\n",
       "        9.04090255e-02, -2.26480052e-01, -1.05910324e-01,  5.08987904e-01,\n",
       "       -9.38529521e-02,  9.95600596e-02,  2.54170418e-01,  2.68032491e-01,\n",
       "        1.17990360e-01, -3.75743568e-01,  1.20879710e-01, -1.52235627e-01,\n",
       "       -2.33625785e-01, -9.88118649e-02, -7.11640790e-02,  2.16651574e-01,\n",
       "        1.31481364e-01,  2.96769381e-01, -3.01091522e-02,  1.07850498e-02,\n",
       "       -4.08250690e-02,  1.03495225e-01,  1.05773397e-01,  5.32341264e-02,\n",
       "        1.85159415e-01,  2.61796147e-01, -1.98351555e-02, -4.47829336e-01,\n",
       "        5.61178848e-02,  1.26786353e-02, -6.64561391e-02, -1.16474787e-02,\n",
       "        2.74480134e-01, -2.72729155e-02, -1.53925657e-01,  1.53719619e-01,\n",
       "       -1.19910076e-01,  9.38901231e-02, -3.27208221e-01, -4.20801453e-02,\n",
       "       -2.91322082e-01, -8.66065323e-02, -8.84038955e-02, -1.85375646e-01,\n",
       "       -5.87557033e-02, -4.26703691e-02,  1.97890773e-01,  1.06404565e-01,\n",
       "       -1.30559549e-01, -1.40656671e-02, -4.15811874e-02,  3.33413966e-02,\n",
       "       -1.57346636e-01, -2.87003636e-01,  3.66677418e-02, -2.10530832e-01,\n",
       "        9.37992111e-02,  2.01340899e-01,  1.51516736e-01, -1.17108785e-01,\n",
       "        4.16972786e-02,  1.25375222e-02,  3.63497809e-02,  1.03788130e-01,\n",
       "        1.12183683e-01,  1.04936652e-01,  1.20178133e-03,  1.87401548e-02,\n",
       "        9.28365067e-02, -1.04854830e-01, -9.51630175e-02, -4.25306559e-02,\n",
       "        6.46982249e-03,  8.06864873e-02,  4.30456735e-02, -7.59674981e-02,\n",
       "        3.34702656e-02, -3.54703292e-02,  2.73003161e-01, -3.81161496e-02,\n",
       "       -1.17981106e-01,  1.40363261e-01,  1.59033343e-01,  1.05724402e-01,\n",
       "        1.34356230e-01,  9.30820331e-02,  8.83759558e-02,  1.42946512e-01,\n",
       "        2.89483853e-02, -9.95635763e-02, -6.77136425e-03,  4.12338004e-02,\n",
       "        1.49919212e-01, -1.02880679e-01,  6.78576753e-02, -1.32982627e-01,\n",
       "       -2.10416257e-01,  2.33556181e-01, -1.49836108e-01, -1.33147344e-01,\n",
       "       -1.00499600e-01,  2.52569109e-01, -4.26412188e-02, -8.67690518e-02,\n",
       "       -2.26998795e-03,  3.06038082e-01,  7.27431327e-02,  7.56040886e-02,\n",
       "        1.15047120e-01, -1.74417108e-01,  9.53966379e-02,  1.51978076e-01,\n",
       "        6.63790340e-03, -6.65617436e-02, -1.72403365e-01,  1.35735720e-02,\n",
       "       -7.37078264e-02,  1.33269534e-01,  4.20006692e-01,  4.86149788e-02,\n",
       "        6.37172684e-02, -1.24757458e-02,  3.61716487e-02, -3.30525488e-01,\n",
       "        1.47427097e-01, -1.38802484e-01,  2.12829262e-01, -3.58357765e-02,\n",
       "       -1.07266918e-01,  2.07299069e-01,  7.99961463e-02,  4.35233936e-02,\n",
       "       -1.45562157e-01, -1.32611627e-02, -9.79156643e-02,  1.29303887e-01,\n",
       "        8.09745789e-02, -9.80129167e-02, -1.01502106e-01, -4.37606275e-02,\n",
       "       -4.21745889e-02, -3.10819279e-02, -1.15465984e-01,  5.02068512e-02,\n",
       "       -1.30419075e-01, -1.80947948e-02,  5.01513928e-02,  2.27685168e-01,\n",
       "       -7.18766823e-02,  1.70757756e-01,  1.03475370e-01,  1.12610590e-02,\n",
       "        1.01905040e-01,  9.40794051e-02,  6.41362295e-02,  1.89184472e-01,\n",
       "        3.40155631e-01,  1.01896010e-01, -2.39305608e-02, -4.64940257e-02,\n",
       "       -3.82005632e-01, -1.30557895e-01, -1.36550143e-01, -6.84619322e-02,\n",
       "        1.85979232e-01,  3.87463979e-02,  5.99624254e-02,  6.25173748e-02,\n",
       "       -9.03900936e-02,  1.39762880e-02,  3.56457531e-01,  4.78056908e-01,\n",
       "       -3.12327057e-01, -9.05013159e-02, -7.54016191e-02, -1.01600431e-01,\n",
       "        2.08098471e-01, -1.98645994e-01,  2.89074238e-02, -8.57819170e-02,\n",
       "       -3.12861383e-01, -1.12828165e-02,  1.08663268e-01,  8.23362693e-02,\n",
       "       -6.87815696e-02, -6.30703345e-02,  1.07793912e-01,  5.12652338e-01,\n",
       "        1.01190425e-01,  1.36201978e-01,  7.86471739e-02,  1.86575890e-01,\n",
       "       -1.18142165e-01,  5.00429384e-02,  1.57215476e-01,  5.40348934e-03,\n",
       "        3.25884432e-01,  9.06337947e-02, -2.31686607e-01, -1.05977273e-02,\n",
       "        1.86531618e-01,  2.13833705e-01,  2.72602230e-01,  2.16073528e-01,\n",
       "        3.39165516e-02,  2.96499640e-01, -1.22969598e-02,  2.70932645e-01,\n",
       "       -2.15317830e-02,  8.09241682e-02, -6.87132776e-02,  7.36046061e-02,\n",
       "        1.32670579e-02,  5.17233014e-02,  9.91883203e-02, -6.36829287e-02,\n",
       "        2.67543402e-02, -2.58116901e-01, -1.90278720e-02,  3.53624612e-01,\n",
       "       -4.06872109e-02, -4.31744963e-01, -2.97191530e-03,  2.02175319e-01,\n",
       "       -5.15526757e-02, -1.14647366e-01,  1.34388313e-01,  5.24527095e-02,\n",
       "        1.81727931e-01, -1.16729088e-01, -3.29933852e-01,  1.05039209e-01,\n",
       "       -2.39644468e-01,  6.50476711e-03, -2.12698057e-01,  8.01835060e-02,\n",
       "        3.15922022e-01,  2.20439546e-02,  1.64174363e-01, -1.87373906e-01,\n",
       "        1.50130451e-01,  3.72688740e-01,  1.82962492e-01, -1.69559807e-01,\n",
       "        6.74858019e-02, -1.92999914e-01,  2.04964295e-01,  1.23265889e-02,\n",
       "        1.04539305e-01, -5.14612608e-02,  1.08321719e-01, -2.50426054e-01,\n",
       "       -1.27925932e-01, -6.15244210e-02, -6.98953867e-02,  2.50645638e-01,\n",
       "        1.64939359e-01,  1.45424321e-01,  1.72620520e-01,  2.26163670e-01,\n",
       "        2.14583408e-02,  1.72709245e-02, -9.54233333e-02, -1.43044144e-01,\n",
       "        1.03315391e-01,  1.51195928e-01, -5.92854284e-02, -1.29291698e-01,\n",
       "        4.40268248e-01, -2.31222913e-01,  3.05961724e-02,  1.06035411e-01,\n",
       "        8.49755034e-02, -5.45437681e-03,  2.87452731e-02,  5.30413501e-02,\n",
       "        3.89924087e-02, -9.41385403e-02, -1.68312937e-01,  3.14646177e-02,\n",
       "       -5.65372072e-02,  1.85549095e-01, -1.70588583e-01, -8.82976577e-02,\n",
       "        6.13756590e-02,  1.45337969e-01, -2.63603806e-01,  1.00852206e-01,\n",
       "       -9.23108906e-02,  1.71501368e-01, -1.52071893e-01, -1.37234941e-01,\n",
       "        1.08264968e-01,  6.05957676e-03, -3.00945938e-02,  2.65182376e-01,\n",
       "       -2.64371443e-03,  1.44196153e-02,  1.58035204e-01,  9.91381034e-02,\n",
       "        3.62002626e-02,  1.32781029e-01,  1.08439587e-02, -4.73324060e-01,\n",
       "        5.16417436e-02, -5.88006824e-02, -7.97619447e-02, -4.76055741e-02,\n",
       "        1.11098818e-01, -1.33376263e-04,  2.18351372e-02, -2.93673873e-01,\n",
       "       -4.20908600e-01, -1.79405570e-01,  4.95132357e-01,  1.85104966e-01,\n",
       "       -2.72498615e-02,  3.39141451e-02,  6.46121725e-02, -6.19082078e-02,\n",
       "        2.11497188e-01,  1.40403301e-01, -3.99367183e-01, -3.82631272e-01,\n",
       "        9.52982828e-02, -2.94417683e-02,  1.63432375e-01, -1.91115856e-01,\n",
       "        8.65203235e-03,  1.37610629e-01,  8.69323835e-02, -8.92908350e-02,\n",
       "       -5.57320379e-02,  8.70329365e-02,  8.44662450e-03, -2.13428866e-02,\n",
       "       -2.01791987e-01, -2.19199747e-01,  1.87083296e-02,  1.40365288e-02,\n",
       "        3.32578607e-02, -1.13789499e-01, -6.97582215e-02, -2.09582105e-01,\n",
       "       -3.88771951e-01,  1.84396245e-02,  1.82054073e-01, -1.86037958e-01,\n",
       "        3.98943089e-02,  1.34321019e-01, -8.23406428e-02, -1.55642912e-01,\n",
       "       -1.12807220e-02, -3.11597455e-02,  7.81871304e-02, -4.82216895e-01,\n",
       "        2.48808004e-02,  1.54993296e-01,  1.53519884e-01,  1.06366463e-01,\n",
       "       -3.16135883e-01, -4.36515003e-01, -1.11678660e-01, -5.11560217e-02,\n",
       "        6.69880435e-02, -1.09755687e-01,  8.28459710e-02, -2.86792636e-01,\n",
       "       -1.34287104e-01, -1.46176919e-01,  1.24843135e-01,  1.17527708e-01,\n",
       "       -3.79833765e-02,  1.40816986e-03, -3.00585091e-01,  7.23357797e-02,\n",
       "        1.81247331e-02, -1.49369597e-01,  8.98352265e-02,  2.42230520e-01,\n",
       "        2.64753044e-01, -2.24617794e-02,  8.47734138e-02,  6.63164407e-02,\n",
       "        2.98371941e-01, -4.93584961e-01, -1.50335476e-01,  4.89856489e-02],\n",
       "      dtype=float32)"
      ]
     },
     "execution_count": 750,
     "metadata": {},
     "output_type": "execute_result"
    }
   ],
   "source": [
    "# Finding Word Vectors for Voldemort\n",
    "model.wv['voldemort']"
   ]
  },
  {
   "cell_type": "code",
   "execution_count": 751,
   "metadata": {},
   "outputs": [
    {
     "data": {
      "text/plain": [
       "array([-0.02255897, -0.0372196 ,  0.04132935,  0.06516945,  0.04688665,\n",
       "        0.09630471, -0.01507643, -0.01218433,  0.12365136,  0.00955966,\n",
       "        0.14165093,  0.11841764, -0.08078019, -0.20118491,  0.19080196,\n",
       "        0.04427744,  0.03055297, -0.02239052, -0.1791045 , -0.15351653,\n",
       "        0.00623586,  0.01524271,  0.00900875,  0.02389793,  0.01305003,\n",
       "        0.09610917,  0.05298731,  0.00890154,  0.06495214, -0.05996985,\n",
       "       -0.11288626,  0.00885349, -0.17216794,  0.02041974, -0.10047742,\n",
       "        0.06142554, -0.15447994, -0.0662585 , -0.18680039, -0.02365565,\n",
       "        0.03507103, -0.01750517,  0.12987968, -0.13562153, -0.06802187,\n",
       "        0.11679129, -0.01240189,  0.00477818,  0.17017928, -0.01887769,\n",
       "       -0.06035905,  0.07375477,  0.13901249, -0.02568234, -0.2075912 ,\n",
       "       -0.09509725, -0.07798196,  0.04788035,  0.09882359,  0.0658235 ,\n",
       "       -0.1332159 ,  0.05048052, -0.135244  ,  0.03725445, -0.03876777,\n",
       "       -0.03075203, -0.00575551, -0.00283068, -0.00130144, -0.10135397,\n",
       "       -0.04372144, -0.15575664,  0.17883669,  0.09752596,  0.04338361,\n",
       "        0.12683615,  0.00200542,  0.15069968, -0.07231227, -0.08744218,\n",
       "       -0.02346899, -0.02779097,  0.14186367, -0.14406124,  0.0114653 ,\n",
       "        0.02216036, -0.07719979, -0.01247213,  0.00109241,  0.15121017,\n",
       "        0.05502743, -0.06534319,  0.09794621,  0.08584912,  0.17924805,\n",
       "       -0.03631109,  0.19086972,  0.0779203 , -0.00034021,  0.06355835,\n",
       "        0.17471774,  0.05757724,  0.21573602,  0.03581978,  0.09192034,\n",
       "       -0.10290058, -0.07620856,  0.06011811,  0.02922342, -0.14401488,\n",
       "       -0.14492688,  0.00096863,  0.01208415, -0.03058576, -0.20776327,\n",
       "       -0.03072979,  0.0672109 , -0.14297694,  0.03588665,  0.02630093,\n",
       "       -0.21568207, -0.01223527,  0.02407385,  0.05509797,  0.05526359,\n",
       "        0.03251623,  0.00314325,  0.09055916, -0.05032568,  0.13399634,\n",
       "       -0.11699889,  0.14290437,  0.0625555 , -0.1621973 , -0.09682149,\n",
       "        0.02106098, -0.06167959, -0.10478394, -0.24243817,  0.11049915,\n",
       "       -0.02216679, -0.15031613, -0.02152803,  0.03675771, -0.04398175,\n",
       "        0.11558935,  0.04233651,  0.0137683 ,  0.07793381, -0.05766382,\n",
       "        0.00650323, -0.12753202, -0.01538883, -0.12286565,  0.03963797,\n",
       "       -0.19698986, -0.16349044,  0.01642356,  0.16130427,  0.08891364,\n",
       "       -0.04706602,  0.08169562,  0.01063949,  0.14794159,  0.00149639,\n",
       "       -0.00522895, -0.03946424,  0.02357948,  0.00131334, -0.07035252,\n",
       "       -0.00500463, -0.00113521,  0.17084888,  0.23657769, -0.09903615,\n",
       "       -0.03056658,  0.11112393, -0.01294802,  0.15619376, -0.1507311 ,\n",
       "       -0.01424617,  0.02109585,  0.0544611 ,  0.00042286, -0.01995062,\n",
       "        0.15507677, -0.00360402, -0.03575892, -0.11972228, -0.12221698,\n",
       "       -0.08104029,  0.02918938,  0.22057968,  0.07516585, -0.0871616 ,\n",
       "        0.00676036, -0.10852287,  0.09118931, -0.03417835,  0.01749041,\n",
       "       -0.11437275,  0.0776841 ,  0.06989291,  0.10160887,  0.1264501 ,\n",
       "       -0.19241446,  0.03238118,  0.23911665, -0.12927598, -0.02123512,\n",
       "        0.07628573, -0.16681302,  0.05927524,  0.10713125, -0.25235394,\n",
       "        0.23248091, -0.06050276,  0.08492002, -0.00672752,  0.13932207,\n",
       "        0.02929096,  0.12732194,  0.1743291 ,  0.10267772,  0.0875745 ,\n",
       "       -0.11593977,  0.20347339,  0.07586542, -0.05224726,  0.08980002,\n",
       "        0.04515364,  0.04139142, -0.04002239, -0.1948825 , -0.2218004 ,\n",
       "        0.13035251, -0.01596579, -0.02038377,  0.0793308 , -0.32177928,\n",
       "        0.0273583 , -0.02283716, -0.10391838, -0.00323817,  0.10648784,\n",
       "       -0.04564921, -0.00556574,  0.12213099, -0.24998704,  0.12865625,\n",
       "       -0.00375577, -0.05095531, -0.1539074 , -0.02733159, -0.13716884,\n",
       "       -0.04271487,  0.1225353 ,  0.06881639,  0.02168346,  0.08453717,\n",
       "        0.15830323, -0.21227905, -0.11280093, -0.25263494,  0.21475515,\n",
       "        0.02227911,  0.25096315, -0.01359732, -0.06150006,  0.12597659,\n",
       "        0.00122537,  0.08981811,  0.07181995,  0.2840455 ,  0.02197398,\n",
       "        0.14410898, -0.01096612, -0.16273516,  0.03590819, -0.21589048,\n",
       "        0.03296389, -0.0120228 ,  0.16805516,  0.0902634 ,  0.06331916,\n",
       "       -0.04598409, -0.15207152,  0.18356258, -0.01199434,  0.00069547,\n",
       "        0.1546007 , -0.2231171 ,  0.07252443, -0.08806196,  0.05884035,\n",
       "        0.16797489,  0.15689518, -0.00189466, -0.12745517, -0.0400673 ,\n",
       "        0.14689885, -0.02374677, -0.060322  , -0.01923711, -0.00518525,\n",
       "       -0.04810524, -0.15701807,  0.15369225, -0.14699899,  0.24881762,\n",
       "       -0.17263563, -0.13219906, -0.18562686,  0.003264  , -0.07088315,\n",
       "       -0.21903762,  0.09851921,  0.26829526,  0.18641506, -0.04660817,\n",
       "        0.10789532, -0.06324346, -0.14521335,  0.07375783, -0.0756589 ,\n",
       "       -0.04262891, -0.10802194, -0.02211944, -0.04118894, -0.05431731,\n",
       "       -0.04899904, -0.09619284, -0.05258651,  0.02585782,  0.01551681,\n",
       "       -0.08819858,  0.11049864,  0.17004712,  0.22518052,  0.00846028,\n",
       "        0.14734682,  0.00622213,  0.11008204,  0.01811077, -0.01805171,\n",
       "       -0.01860122, -0.03664673,  0.01263857,  0.14549683, -0.02492768,\n",
       "       -0.0161166 , -0.04486726,  0.0921292 ,  0.07850691, -0.2046924 ,\n",
       "        0.00328978, -0.00629015,  0.04751193, -0.00094376,  0.13807935,\n",
       "        0.07564459, -0.00290869,  0.03893949, -0.09650527, -0.00984856,\n",
       "        0.00508159,  0.09759437,  0.05433469, -0.00399118,  0.08207301,\n",
       "       -0.1371672 ,  0.02131209,  0.10733511, -0.02392784, -0.00898031,\n",
       "       -0.00342514,  0.19437206,  0.16072883, -0.1401608 , -0.08509768,\n",
       "        0.01505301,  0.04438153, -0.07042275,  0.03418672,  0.05029016,\n",
       "       -0.07479122, -0.02007692,  0.04646954,  0.07121739,  0.11625499,\n",
       "       -0.00553429, -0.07795677, -0.20957372,  0.0029103 , -0.04559654,\n",
       "       -0.18522073, -0.15626991, -0.1033287 ,  0.00987955,  0.08935975,\n",
       "        0.17378338,  0.2386179 ,  0.07372958,  0.03330225, -0.21864578,\n",
       "       -0.06571534,  0.06527373,  0.08691767,  0.12795709,  0.15269372,\n",
       "       -0.00040357,  0.05895023,  0.24392901, -0.05625778,  0.08858654,\n",
       "       -0.00335134, -0.12304108,  0.01948382,  0.17931876,  0.17233624,\n",
       "       -0.08972811, -0.0802357 , -0.00165143, -0.13883533, -0.05407447,\n",
       "       -0.07977968,  0.11826271, -0.06541625, -0.01487075,  0.03130395,\n",
       "        0.05039196,  0.09077836, -0.03945269, -0.21131685, -0.02723458,\n",
       "       -0.01159581, -0.19728193,  0.12854865, -0.05907873,  0.06049195,\n",
       "        0.14812694, -0.10617096,  0.0163801 ,  0.00199086, -0.09843894,\n",
       "       -0.03907204, -0.16565895, -0.03221237, -0.0224914 ,  0.0141063 ,\n",
       "        0.1346924 , -0.16418163,  0.09310552, -0.04521536,  0.20308708,\n",
       "       -0.0567569 , -0.14017211, -0.26804638,  0.16706835, -0.08338253,\n",
       "        0.30638236,  0.05554225,  0.00882547,  0.07758731,  0.05144576,\n",
       "        0.03984207, -0.10944912,  0.01403787,  0.03157474,  0.04800432,\n",
       "        0.00538621,  0.02045716, -0.00120239, -0.20943353, -0.00986655,\n",
       "       -0.04259343, -0.07610279,  0.03718738, -0.03423877, -0.14700978,\n",
       "        0.09257017, -0.03560309, -0.0959558 ,  0.01555265, -0.10495156,\n",
       "        0.11827681, -0.15742324, -0.23637468, -0.0863889 ,  0.01251557,\n",
       "       -0.16782402, -0.02684571,  0.03428002,  0.12449341, -0.03700029,\n",
       "       -0.06022818, -0.06362657, -0.0669953 , -0.00303387,  0.07887091,\n",
       "       -0.0854767 ,  0.0171942 , -0.24058901, -0.15384297, -0.16637486,\n",
       "       -0.10341469,  0.0198066 ,  0.07596134,  0.00240466,  0.01379514,\n",
       "       -0.02630475,  0.05113054,  0.2551907 , -0.04403528,  0.12313181,\n",
       "       -0.15492503,  0.16544661,  0.01290733,  0.0469903 ,  0.1319874 ,\n",
       "       -0.11319446,  0.10578347,  0.15340835, -0.02842691, -0.08898883,\n",
       "       -0.00427652, -0.03476475,  0.05475446, -0.11977192, -0.11816453,\n",
       "       -0.06897839, -0.13245657, -0.01944153,  0.15760547, -0.11510537,\n",
       "       -0.13978758,  0.03552788, -0.07475166,  0.08611678, -0.06563405,\n",
       "        0.07286129,  0.0298676 , -0.03378199,  0.0969828 ,  0.06444843,\n",
       "       -0.01322111,  0.19744506, -0.05879496, -0.15353717, -0.20922677,\n",
       "        0.02416477, -0.01450804,  0.01065993, -0.06211667,  0.19900176,\n",
       "        0.05680005, -0.22752954,  0.01218535,  0.09792452, -0.26404735,\n",
       "        0.06293078,  0.12155132,  0.00046941,  0.10325108, -0.13013363,\n",
       "       -0.16336474, -0.0026974 , -0.07608169, -0.04404639, -0.10388895,\n",
       "        0.10051724,  0.09283417, -0.1771031 , -0.06901378, -0.15317471,\n",
       "       -0.02369262,  0.06108472,  0.01100693, -0.13027664, -0.00658694,\n",
       "       -0.09091266, -0.14408089,  0.07734758,  0.15972608,  0.02120179,\n",
       "       -0.21652621,  0.08338078,  0.02470604, -0.00904479,  0.09234792,\n",
       "        0.03406461, -0.04771919,  0.19798788,  0.02496004,  0.06408778,\n",
       "        0.01244314,  0.1021684 , -0.1234782 , -0.14014818,  0.07937291],\n",
       "      dtype=float32)"
      ]
     },
     "execution_count": 751,
     "metadata": {},
     "output_type": "execute_result"
    }
   ],
   "source": [
    "# Finding Word Vectors for Harry\n",
    "model.wv['harry']"
   ]
  },
  {
   "cell_type": "code",
   "execution_count": 752,
   "metadata": {},
   "outputs": [
    {
     "data": {
      "text/plain": [
       "0.34184426"
      ]
     },
     "execution_count": 752,
     "metadata": {},
     "output_type": "execute_result"
    }
   ],
   "source": [
    "# Cosine similarity between voldemort and harry\n",
    "model.wv.similarity('voldemort', 'harry')\n",
    "\n",
    "#There is high similarity as the similarity value is positive in the 1 direction."
   ]
  },
  {
   "cell_type": "code",
   "execution_count": 753,
   "metadata": {},
   "outputs": [],
   "source": [
    "# Constructing interpretable semantic scales \n",
    "from scipy import spatial\n",
    " \n",
    "def cosine_similarity(x, y):\n",
    "    return(1 - spatial.distance.cosine(x, y))\n",
    "\n",
    "pol_words_sim_2d = pd.DataFrame([[cosine_similarity(model.wv['harry'], model.wv['good']), cosine_similarity(model.wv['harry'], model.wv['bad'])],\n",
    "                                 [cosine_similarity(model.wv['dumbledore'], model.wv['good']), cosine_similarity(model.wv['dumbledore'], model.wv['bad'])],\n",
    "                                 [cosine_similarity(model.wv['malfoy'], model.wv['good']), cosine_similarity(model.wv['malfoy'], model.wv['bad'])]],\n",
    "                                index=['harry', 'dumbledore', 'malfoy'], columns=['good', 'bad'])"
   ]
  },
  {
   "cell_type": "code",
   "execution_count": 754,
   "metadata": {},
   "outputs": [
    {
     "data": {
      "text/html": [
       "<div>\n",
       "<style scoped>\n",
       "    .dataframe tbody tr th:only-of-type {\n",
       "        vertical-align: middle;\n",
       "    }\n",
       "\n",
       "    .dataframe tbody tr th {\n",
       "        vertical-align: top;\n",
       "    }\n",
       "\n",
       "    .dataframe thead th {\n",
       "        text-align: right;\n",
       "    }\n",
       "</style>\n",
       "<table border=\"1\" class=\"dataframe\">\n",
       "  <thead>\n",
       "    <tr style=\"text-align: right;\">\n",
       "      <th></th>\n",
       "      <th>good</th>\n",
       "      <th>bad</th>\n",
       "    </tr>\n",
       "  </thead>\n",
       "  <tbody>\n",
       "    <tr>\n",
       "      <th>harry</th>\n",
       "      <td>0.313017</td>\n",
       "      <td>0.355965</td>\n",
       "    </tr>\n",
       "    <tr>\n",
       "      <th>dumbledore</th>\n",
       "      <td>0.241278</td>\n",
       "      <td>0.084277</td>\n",
       "    </tr>\n",
       "    <tr>\n",
       "      <th>malfoy</th>\n",
       "      <td>0.146232</td>\n",
       "      <td>0.251507</td>\n",
       "    </tr>\n",
       "  </tbody>\n",
       "</table>\n",
       "</div>"
      ],
      "text/plain": [
       "                good       bad\n",
       "harry       0.313017  0.355965\n",
       "dumbledore  0.241278  0.084277\n",
       "malfoy      0.146232  0.251507"
      ]
     },
     "execution_count": 754,
     "metadata": {},
     "output_type": "execute_result"
    }
   ],
   "source": [
    "pol_words_sim_2d"
   ]
  },
  {
   "cell_type": "code",
   "execution_count": 761,
   "metadata": {},
   "outputs": [
    {
     "data": {
      "image/png": "[encoded data removed]",
      "text/plain": [
       "<Figure size 432x288 with 1 Axes>"
      ]
     },
     "metadata": {
      "needs_background": "light"
     },
     "output_type": "display_data"
    }
   ],
   "source": [
    "sns.scatterplot(x='good', y='bad', data=pol_words_sim_2d, hue=pol_words_sim_2d.index)\n",
    "plt.savefig('goodbadscat.png')\n",
    "#harry: both very bad and very good\n",
    "#dumbledore: more good, less bad\n",
    "#malfoy: more bad, less good"
   ]
  },
  {
   "cell_type": "code",
   "execution_count": 756,
   "metadata": {},
   "outputs": [
    {
     "data": {
      "text/plain": [
       "-0.07399161159992218"
      ]
     },
     "execution_count": 756,
     "metadata": {},
     "output_type": "execute_result"
    }
   ],
   "source": [
    "# Bad to good scale\n",
    "scale_bad_good = model.wv['good'] - model.wv['bad']\n",
    "cosine_similarity(model.wv['harry'], scale_bad_good)\n",
    "cosine_similarity(model.wv['dumbledore'], model.wv['good'] - model.wv['bad'])\n",
    "cosine_similarity(model.wv['malfoy'], model.wv['good'] - model.wv['bad'])"
   ]
  },
  {
   "cell_type": "code",
   "execution_count": 757,
   "metadata": {},
   "outputs": [],
   "source": [
    "pol_words_sim = pd.DataFrame([cosine_similarity(model.wv['harry'], model.wv['good'] - model.wv['bad']),\n",
    "                              cosine_similarity(model.wv['dumbledore'], model.wv['good'] - model.wv['bad']),\n",
    "                              cosine_similarity(model.wv['malfoy'], model.wv['good'] - model.wv['bad'])],\n",
    "                             index=['harry', 'dumbledore', 'malfoy'], columns=['cos_sim'])"
   ]
  },
  {
   "cell_type": "code",
   "execution_count": 758,
   "metadata": {},
   "outputs": [
    {
     "data": {
      "text/html": [
       "<div>\n",
       "<style scoped>\n",
       "    .dataframe tbody tr th:only-of-type {\n",
       "        vertical-align: middle;\n",
       "    }\n",
       "\n",
       "    .dataframe tbody tr th {\n",
       "        vertical-align: top;\n",
       "    }\n",
       "\n",
       "    .dataframe thead th {\n",
       "        text-align: right;\n",
       "    }\n",
       "</style>\n",
       "<table border=\"1\" class=\"dataframe\">\n",
       "  <thead>\n",
       "    <tr style=\"text-align: right;\">\n",
       "      <th></th>\n",
       "      <th>cos_sim</th>\n",
       "    </tr>\n",
       "  </thead>\n",
       "  <tbody>\n",
       "    <tr>\n",
       "      <th>harry</th>\n",
       "      <td>0.020497</td>\n",
       "    </tr>\n",
       "    <tr>\n",
       "      <th>dumbledore</th>\n",
       "      <td>0.202238</td>\n",
       "    </tr>\n",
       "    <tr>\n",
       "      <th>malfoy</th>\n",
       "      <td>-0.073992</td>\n",
       "    </tr>\n",
       "  </tbody>\n",
       "</table>\n",
       "</div>"
      ],
      "text/plain": [
       "             cos_sim\n",
       "harry       0.020497\n",
       "dumbledore  0.202238\n",
       "malfoy     -0.073992"
      ]
     },
     "execution_count": 758,
     "metadata": {},
     "output_type": "execute_result"
    }
   ],
   "source": [
    "pol_words_sim"
   ]
  },
  {
   "cell_type": "code",
   "execution_count": 760,
   "metadata": {},
   "outputs": [
    {
     "data": {
      "image/png": "[encoded data removed]",
      "text/plain": [
       "<Figure size 432x288 with 1 Axes>"
      ]
     },
     "metadata": {
      "needs_background": "light"
     },
     "output_type": "display_data"
    }
   ],
   "source": [
    "ax = sns.barplot(x=pol_words_sim.index, y=pol_words_sim.cos_sim)\n",
    "ax.set(ylabel=\"bad_good scale\")\n",
    "plt.savefig('goodbad.png')\n",
    "plt.show()\n",
    "#Harry is located between good and bad, but more good.\n",
    "#Dumbledore is located towards the good end of the scale. \n",
    "#Malfoy is located in the bad end of the scale."
   ]
  },
  {
   "cell_type": "code",
   "execution_count": 762,
   "metadata": {},
   "outputs": [
    {
     "data": {
      "text/plain": [
       "[('harryl', 0.7255035042762756),\n",
       " ('die.', 0.7223395109176636),\n",
       " ('readjusted', 0.7195497751235962),\n",
       " ('potters.', 0.7184015512466431),\n",
       " ('free.', 0.7155298590660095),\n",
       " ('gabbling', 0.7143489122390747),\n",
       " ('wormtail.', 0.7134877443313599),\n",
       " ('try.', 0.713019847869873),\n",
       " ('gits', 0.7106040716171265),\n",
       " ('huh', 0.7092150449752808),\n",
       " ('apologetic', 0.7091353535652161),\n",
       " ('lives.', 0.7051045894622803),\n",
       " ('mum.', 0.7021036744117737),\n",
       " ('many.', 0.7019387483596802),\n",
       " ('hearts', 0.7015182375907898)]"
      ]
     },
     "execution_count": 762,
     "metadata": {},
     "output_type": "execute_result"
    }
   ],
   "source": [
    "# Checking the vectors semantic relations to compare to the plot above\n",
    "model.wv.most_similar(\"harry\", topn=15)"
   ]
  },
  {
   "cell_type": "code",
   "execution_count": 763,
   "metadata": {},
   "outputs": [
    {
     "data": {
      "text/plain": [
       "[('dumbledore.', 0.6128495335578918),\n",
       " ('headmaster', 0.5900408625602722),\n",
       " ('dippet', 0.5702698230743408),\n",
       " ('yes.', 0.5363028645515442),\n",
       " ('flee', 0.5341731905937195),\n",
       " ('sardonic', 0.5333683490753174),\n",
       " ('casket', 0.5326215028762817),\n",
       " ('arranged', 0.5317710638046265),\n",
       " ('severus', 0.5302631855010986),\n",
       " ('anyone.', 0.530208170413971)]"
      ]
     },
     "execution_count": 763,
     "metadata": {},
     "output_type": "execute_result"
    }
   ],
   "source": [
    "# Checking the vectors semantic relations to compare to the plot above\n",
    "model.wv.most_similar(\"dumbledore\", topn=10)"
   ]
  },
  {
   "cell_type": "code",
   "execution_count": 764,
   "metadata": {},
   "outputs": [
    {
     "data": {
      "text/plain": [
       "[('goyle', 0.6887638568878174),\n",
       " ('crabbe', 0.667514443397522),\n",
       " ('draco', 0.6277750730514526),\n",
       " ('malfoy.', 0.5787255764007568),\n",
       " ('pansy', 0.5783221125602722),\n",
       " ('cronies', 0.5598978996276855),\n",
       " ('parkinson', 0.5482883453369141),\n",
       " ('vincent', 0.5463175773620605),\n",
       " ('lucius', 0.5449580550193787),\n",
       " ('smirking', 0.5441932678222656)]"
      ]
     },
     "execution_count": 764,
     "metadata": {},
     "output_type": "execute_result"
    }
   ],
   "source": [
    "# Checking the vectors semantic relations to compare to the plot above\n",
    "model.wv.most_similar(\"malfoy\", topn=10)"
   ]
  },
  {
   "cell_type": "markdown",
   "metadata": {},
   "source": [
    "#### Q4 Interpritation ####\n",
    "In creating my NLP model, I trained it with ~62,000 words and had success when testing the accuracy. Using Word2Vec’s get_unmatching_word function, I create a list of Slytherin students and one non-Slytherin. The model was able to accurately detect which was not the Slytherin student. Additionally, I used the most_similar function to test the vectors semantic relations for various characters such as Hagrid. I also tested the positive and negative correlations with James Potter, the word ‘Father’ and Snape. With this, the model detected the correlation between the two to be Lily Potter, ‘mother’, ‘parents’ and others. As an avid Harry Potter fan, I can see how the model was correct with those correlations. To asses Harry Dumbeoldore, and Malfoy on a good vs. bad scale, I used the scipy cosine_similarity function to give each character a score. These scores and through the Seaborn scatter plot, we can see that Dumbledor is the ‘goodest’ of the three in which he is more on the good than the bad side of the plot. Following second was Harry Potter falling in both the good and bad sides. Third came Malfoy falling completely on the bad side of the plot. I believe this output is accurate due to the nature of the character's roles. Dumbledor is always a mentor and protector, while Harry Potter is a good person but does mischievous and dangerous tasks. Malfoy is just a villainous character through most of the entire series."
   ]
  },
  {
   "cell_type": "markdown",
   "metadata": {},
   "source": [
    "#### References"
   ]
  },
  {
   "cell_type": "markdown",
   "metadata": {},
   "source": [
    "- Q1: Notebooks\n",
    "https://stackoverflow.com/questions/51748679/getting-total-word-count-from-a-string-series-in-a-pandas-data-frame\n",
    "\n",
    "- Q2 \n",
    "Notebooks\n",
    "https://stackoverflow.com/questions/23668427/pandas-three-way-joining-multiple-dataframes-on-columns\n",
    "https://stackoverflow.com/questions/40774787/renaming-columns-in-a-pandas-dataframe-with-duplicate-column-names\n",
    "https://stackoverflow.com/questions/23037548/change-main-plot-legend-label-text\n",
    "https://stackoverflow.com/questions/52626103/custom-colormap\n",
    "\n",
    "- Q3 \n",
    "Notebooks\n",
    "https://textblob.readthedocs.io/en/dev/\n",
    "\n",
    "- Q4 \n",
    "Notebooks\n",
    "https://samyzaf.com/ML/nlp/nlp.html\n",
    "https://www.youtube.com/watch?v=pY9EwZ02sXU\n",
    "https://pythonspot.com/tokenizing-words-and-sentences-with-nltk/\n",
    "https://www.w3schools.com/python/python_regex.asp\n",
    "https://stackoverflow.com/questions/6773584/how-is-pythons-glob-glob-ordered\n",
    "https://stackoverflow.com/questions/42407976/loading-multiple-text-files-from-a-folder-into-a-python-list-variable\n",
    "https://stackoverflow.com/questions/46105180/typeerror-expected-string-or-bytes-like-object-with-python-nltk-word-tokenize\n"
   ]
  },
  {
   "cell_type": "markdown",
   "metadata": {},
   "source": [
    "\n",
    "\n",
    "<img src=\"https://media.giphy.com/media/tfdeUfV3RsVKE/giphy.gif\">\n",
    "                   <p><center> *GIF of Harry Potter proud of my final project :)</center></p>\n",
    "                   <p><center> Have a good & safe summer!</center></p>\n"
   ]
  }
 ],
 "metadata": {
  "kernelspec": {
   "display_name": "Python 3",
   "language": "python",
   "name": "python3"
  },
  "language_info": {
   "codemirror_mode": {
    "name": "ipython",
    "version": 3
   },
   "file_extension": ".py",
   "mimetype": "text/x-python",
   "name": "python",
   "nbconvert_exporter": "python",
   "pygments_lexer": "ipython3",
   "version": "3.7.6"
  }
 },
 "nbformat": 4,
 "nbformat_minor": 2
}
